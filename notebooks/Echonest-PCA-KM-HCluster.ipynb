{
 "cells": [
  {
   "cell_type": "code",
   "execution_count": 1,
   "id": "710b21a5",
   "metadata": {},
   "outputs": [],
   "source": [
    "import numpy as np\n",
    "import pandas as pd\n",
    "import matplotlib.pyplot as plt\n",
    "import seaborn as sns\n",
    "import warnings\n",
    "#from umap import UMAP\n",
    "from scipy.stats import norm\n",
    "from sklearn.datasets import make_multilabel_classification\n",
    "from sklearn.datasets import make_classification\n",
    "from sklearn.model_selection import GridSearchCV, train_test_split\n",
    "from sklearn.ensemble import RandomForestClassifier\n",
    "from sklearn.svm import SVC\n",
    "from sklearn.linear_model import LogisticRegression\n",
    "from sklearn import neighbors\n",
    "from sklearn.decomposition import PCA, KernelPCA\n",
    "from sklearn.manifold import TSNE, MDS\n",
    "from sklearn.preprocessing import StandardScaler\n",
    "from sklearn.metrics import confusion_matrix, classification_report, accuracy_score\n",
    "from sklearn.cluster import KMeans\n",
    "from sklearn.metrics import silhouette_score\n",
    "from sklearn.impute import SimpleImputer\n",
    "from scipy.cluster.hierarchy import dendrogram, linkage\n",
    "from scipy.cluster.hierarchy import fcluster"
   ]
  },
  {
   "cell_type": "code",
   "execution_count": 2,
   "id": "957e1529",
   "metadata": {
    "scrolled": true
   },
   "outputs": [],
   "source": [
    "file_path_features = '../Data/final_features.csv'\n",
    "file_path_echonest = '../Data/final_echonest_features.csv'"
   ]
  },
  {
   "cell_type": "markdown",
   "id": "d75f639a",
   "metadata": {},
   "source": [
    "## EDA (in other Sheet)"
   ]
  },
  {
   "cell_type": "markdown",
   "id": "2cbc5159",
   "metadata": {},
   "source": [
    "# Echonest"
   ]
  },
  {
   "cell_type": "code",
   "execution_count": 3,
   "id": "382e3cd5",
   "metadata": {},
   "outputs": [
    {
     "name": "stderr",
     "output_type": "stream",
     "text": [
      "/var/folders/88/rkxmpw3j3nlddb7phwjzbx6r0000gn/T/ipykernel_28838/1870594795.py:2: DtypeWarning: Columns (42,47,49) have mixed types. Specify dtype option on import or set low_memory=False.\n",
      "  echo_df = pd.read_csv(file_path_echonest)\n"
     ]
    },
    {
     "data": {
      "text/html": [
       "<div>\n",
       "<style scoped>\n",
       "    .dataframe tbody tr th:only-of-type {\n",
       "        vertical-align: middle;\n",
       "    }\n",
       "\n",
       "    .dataframe tbody tr th {\n",
       "        vertical-align: top;\n",
       "    }\n",
       "\n",
       "    .dataframe thead th {\n",
       "        text-align: right;\n",
       "    }\n",
       "</style>\n",
       "<table border=\"1\" class=\"dataframe\">\n",
       "  <thead>\n",
       "    <tr style=\"text-align: right;\">\n",
       "      <th></th>\n",
       "      <th>album_comments</th>\n",
       "      <th>album_date_created</th>\n",
       "      <th>album_date_released</th>\n",
       "      <th>album_engineer</th>\n",
       "      <th>album_favorites</th>\n",
       "      <th>album_id</th>\n",
       "      <th>album_information</th>\n",
       "      <th>album_listens</th>\n",
       "      <th>album_producer</th>\n",
       "      <th>album_tags</th>\n",
       "      <th>...</th>\n",
       "      <th>echonest_temporal_features_214</th>\n",
       "      <th>echonest_temporal_features_215</th>\n",
       "      <th>echonest_temporal_features_216</th>\n",
       "      <th>echonest_temporal_features_217</th>\n",
       "      <th>echonest_temporal_features_218</th>\n",
       "      <th>echonest_temporal_features_219</th>\n",
       "      <th>echonest_temporal_features_220</th>\n",
       "      <th>echonest_temporal_features_221</th>\n",
       "      <th>echonest_temporal_features_222</th>\n",
       "      <th>echonest_temporal_features_223</th>\n",
       "    </tr>\n",
       "  </thead>\n",
       "  <tbody>\n",
       "    <tr>\n",
       "      <th>0</th>\n",
       "      <td>0</td>\n",
       "      <td>2008-11-26 01:44:45</td>\n",
       "      <td>2009-01-05</td>\n",
       "      <td>NaN</td>\n",
       "      <td>4</td>\n",
       "      <td>1</td>\n",
       "      <td>&lt;p&gt;&lt;/p&gt;</td>\n",
       "      <td>6073</td>\n",
       "      <td>NaN</td>\n",
       "      <td>[]</td>\n",
       "      <td>...</td>\n",
       "      <td>-1.992303</td>\n",
       "      <td>6.805694</td>\n",
       "      <td>0.233070</td>\n",
       "      <td>0.192880</td>\n",
       "      <td>0.027455</td>\n",
       "      <td>0.06408</td>\n",
       "      <td>3.67696</td>\n",
       "      <td>3.61288</td>\n",
       "      <td>13.316690</td>\n",
       "      <td>262.929749</td>\n",
       "    </tr>\n",
       "    <tr>\n",
       "      <th>1</th>\n",
       "      <td>0</td>\n",
       "      <td>2008-11-26 01:44:45</td>\n",
       "      <td>2009-01-05</td>\n",
       "      <td>NaN</td>\n",
       "      <td>4</td>\n",
       "      <td>1</td>\n",
       "      <td>&lt;p&gt;&lt;/p&gt;</td>\n",
       "      <td>6073</td>\n",
       "      <td>NaN</td>\n",
       "      <td>[]</td>\n",
       "      <td>...</td>\n",
       "      <td>-1.582331</td>\n",
       "      <td>8.889308</td>\n",
       "      <td>0.258464</td>\n",
       "      <td>0.220905</td>\n",
       "      <td>0.081368</td>\n",
       "      <td>0.06413</td>\n",
       "      <td>6.08277</td>\n",
       "      <td>6.01864</td>\n",
       "      <td>16.673548</td>\n",
       "      <td>325.581085</td>\n",
       "    </tr>\n",
       "    <tr>\n",
       "      <th>2</th>\n",
       "      <td>0</td>\n",
       "      <td>2008-11-26 01:44:45</td>\n",
       "      <td>2009-01-05</td>\n",
       "      <td>NaN</td>\n",
       "      <td>4</td>\n",
       "      <td>1</td>\n",
       "      <td>&lt;p&gt;&lt;/p&gt;</td>\n",
       "      <td>6073</td>\n",
       "      <td>NaN</td>\n",
       "      <td>[]</td>\n",
       "      <td>...</td>\n",
       "      <td>-2.288358</td>\n",
       "      <td>11.527109</td>\n",
       "      <td>0.256821</td>\n",
       "      <td>0.237820</td>\n",
       "      <td>0.060122</td>\n",
       "      <td>0.06014</td>\n",
       "      <td>5.92649</td>\n",
       "      <td>5.86635</td>\n",
       "      <td>16.013849</td>\n",
       "      <td>356.755737</td>\n",
       "    </tr>\n",
       "    <tr>\n",
       "      <th>3</th>\n",
       "      <td>0</td>\n",
       "      <td>2008-11-26 01:45:08</td>\n",
       "      <td>2008-02-06</td>\n",
       "      <td>NaN</td>\n",
       "      <td>4</td>\n",
       "      <td>6</td>\n",
       "      <td>NaN</td>\n",
       "      <td>47632</td>\n",
       "      <td>NaN</td>\n",
       "      <td>[]</td>\n",
       "      <td>...</td>\n",
       "      <td>-3.662988</td>\n",
       "      <td>21.508228</td>\n",
       "      <td>0.283352</td>\n",
       "      <td>0.267070</td>\n",
       "      <td>0.125704</td>\n",
       "      <td>0.08082</td>\n",
       "      <td>8.41401</td>\n",
       "      <td>8.33319</td>\n",
       "      <td>21.317064</td>\n",
       "      <td>483.403809</td>\n",
       "    </tr>\n",
       "    <tr>\n",
       "      <th>4</th>\n",
       "      <td>0</td>\n",
       "      <td>2008-11-26 01:44:45</td>\n",
       "      <td>2009-01-05</td>\n",
       "      <td>NaN</td>\n",
       "      <td>4</td>\n",
       "      <td>1</td>\n",
       "      <td>&lt;p&gt;&lt;/p&gt;</td>\n",
       "      <td>6073</td>\n",
       "      <td>NaN</td>\n",
       "      <td>[]</td>\n",
       "      <td>...</td>\n",
       "      <td>-1.452696</td>\n",
       "      <td>2.356398</td>\n",
       "      <td>0.234686</td>\n",
       "      <td>0.199550</td>\n",
       "      <td>0.149332</td>\n",
       "      <td>0.06440</td>\n",
       "      <td>11.26707</td>\n",
       "      <td>11.20267</td>\n",
       "      <td>26.454180</td>\n",
       "      <td>751.147705</td>\n",
       "    </tr>\n",
       "  </tbody>\n",
       "</table>\n",
       "<p>5 rows × 819 columns</p>\n",
       "</div>"
      ],
      "text/plain": [
       "   album_comments   album_date_created album_date_released album_engineer  \\\n",
       "0               0  2008-11-26 01:44:45          2009-01-05            NaN   \n",
       "1               0  2008-11-26 01:44:45          2009-01-05            NaN   \n",
       "2               0  2008-11-26 01:44:45          2009-01-05            NaN   \n",
       "3               0  2008-11-26 01:45:08          2008-02-06            NaN   \n",
       "4               0  2008-11-26 01:44:45          2009-01-05            NaN   \n",
       "\n",
       "   album_favorites  album_id album_information  album_listens album_producer  \\\n",
       "0                4         1           <p></p>           6073            NaN   \n",
       "1                4         1           <p></p>           6073            NaN   \n",
       "2                4         1           <p></p>           6073            NaN   \n",
       "3                4         6               NaN          47632            NaN   \n",
       "4                4         1           <p></p>           6073            NaN   \n",
       "\n",
       "  album_tags  ... echonest_temporal_features_214  \\\n",
       "0         []  ...                      -1.992303   \n",
       "1         []  ...                      -1.582331   \n",
       "2         []  ...                      -2.288358   \n",
       "3         []  ...                      -3.662988   \n",
       "4         []  ...                      -1.452696   \n",
       "\n",
       "   echonest_temporal_features_215 echonest_temporal_features_216  \\\n",
       "0                        6.805694                       0.233070   \n",
       "1                        8.889308                       0.258464   \n",
       "2                       11.527109                       0.256821   \n",
       "3                       21.508228                       0.283352   \n",
       "4                        2.356398                       0.234686   \n",
       "\n",
       "  echonest_temporal_features_217 echonest_temporal_features_218  \\\n",
       "0                       0.192880                       0.027455   \n",
       "1                       0.220905                       0.081368   \n",
       "2                       0.237820                       0.060122   \n",
       "3                       0.267070                       0.125704   \n",
       "4                       0.199550                       0.149332   \n",
       "\n",
       "  echonest_temporal_features_219 echonest_temporal_features_220  \\\n",
       "0                        0.06408                        3.67696   \n",
       "1                        0.06413                        6.08277   \n",
       "2                        0.06014                        5.92649   \n",
       "3                        0.08082                        8.41401   \n",
       "4                        0.06440                       11.26707   \n",
       "\n",
       "   echonest_temporal_features_221 echonest_temporal_features_222  \\\n",
       "0                         3.61288                      13.316690   \n",
       "1                         6.01864                      16.673548   \n",
       "2                         5.86635                      16.013849   \n",
       "3                         8.33319                      21.317064   \n",
       "4                        11.20267                      26.454180   \n",
       "\n",
       "   echonest_temporal_features_223  \n",
       "0                      262.929749  \n",
       "1                      325.581085  \n",
       "2                      356.755737  \n",
       "3                      483.403809  \n",
       "4                      751.147705  \n",
       "\n",
       "[5 rows x 819 columns]"
      ]
     },
     "execution_count": 3,
     "metadata": {},
     "output_type": "execute_result"
    }
   ],
   "source": [
    "# Read the data file with the specified column headers\n",
    "echo_df = pd.read_csv(file_path_echonest)\n",
    "\n",
    "echo_df.head()"
   ]
  },
  {
   "cell_type": "code",
   "execution_count": 4,
   "id": "2ce496d3",
   "metadata": {},
   "outputs": [
    {
     "data": {
      "text/plain": [
       "(13129, 819)"
      ]
     },
     "execution_count": 4,
     "metadata": {},
     "output_type": "execute_result"
    }
   ],
   "source": [
    "echo_df.shape"
   ]
  },
  {
   "cell_type": "code",
   "execution_count": 5,
   "id": "9d45f3ea",
   "metadata": {},
   "outputs": [
    {
     "name": "stdout",
     "output_type": "stream",
     "text": [
      "['album_comments', 'album_date_created', 'album_date_released', 'album_engineer', 'album_favorites', 'album_id', 'album_information', 'album_listens', 'album_producer', 'album_tags', 'album_title', 'album_tracks', 'album_type', 'artist_active_year_begin', 'artist_active_year_end', 'artist_associated_labels', 'artist_bio', 'artist_comments', 'artist_date_created', 'artist_favorites', 'artist_id', 'artist_latitude', 'artist_location', 'artist_longitude', 'artist_members', 'artist_name', 'artist_related_projects', 'artist_tags', 'artist_website', 'artist_wikipedia_page', 'set_split', 'set_subset', 'track_bit_rate', 'track_comments', 'track_composer', 'track_date_created', 'track_date_recorded', 'track_duration', 'track_favorites', 'track_genre_top', 'track_genres', 'track_genres_all', 'track_information', 'track_interest', 'track_language_code', 'track_license', 'track_listens', 'track_lyricist', 'track_number', 'track_publisher', 'track_tags', 'track_title', 'chroma_cens_kurtosis_01', 'chroma_cens_kurtosis_02', 'chroma_cens_kurtosis_03', 'chroma_cens_kurtosis_04', 'chroma_cens_kurtosis_05', 'chroma_cens_kurtosis_06', 'chroma_cens_kurtosis_07', 'chroma_cens_kurtosis_08', 'chroma_cens_kurtosis_09', 'chroma_cens_kurtosis_10', 'chroma_cens_kurtosis_11', 'chroma_cens_kurtosis_12', 'chroma_cens_max_01', 'chroma_cens_max_02', 'chroma_cens_max_03', 'chroma_cens_max_04', 'chroma_cens_max_05', 'chroma_cens_max_06', 'chroma_cens_max_07', 'chroma_cens_max_08', 'chroma_cens_max_09', 'chroma_cens_max_10', 'chroma_cens_max_11', 'chroma_cens_max_12', 'chroma_cens_mean_01', 'chroma_cens_mean_02', 'chroma_cens_mean_03', 'chroma_cens_mean_04', 'chroma_cens_mean_05', 'chroma_cens_mean_06', 'chroma_cens_mean_07', 'chroma_cens_mean_08', 'chroma_cens_mean_09', 'chroma_cens_mean_10', 'chroma_cens_mean_11', 'chroma_cens_mean_12', 'chroma_cens_median_01', 'chroma_cens_median_02', 'chroma_cens_median_03', 'chroma_cens_median_04', 'chroma_cens_median_05', 'chroma_cens_median_06', 'chroma_cens_median_07', 'chroma_cens_median_08', 'chroma_cens_median_09', 'chroma_cens_median_10', 'chroma_cens_median_11', 'chroma_cens_median_12']\n"
     ]
    }
   ],
   "source": [
    "# Print the names of the first 100 columns\n",
    "print(echo_df.columns[:100].tolist())"
   ]
  },
  {
   "cell_type": "code",
   "execution_count": 6,
   "id": "c44289b1",
   "metadata": {},
   "outputs": [
    {
     "name": "stdout",
     "output_type": "stream",
     "text": [
      "['album_comments', 'album_date_created', 'album_date_released', 'album_engineer', 'album_favorites', 'album_id', 'album_information', 'album_listens', 'album_producer', 'album_tags', 'album_title', 'album_tracks', 'album_type', 'artist_active_year_begin', 'artist_active_year_end', 'artist_associated_labels', 'artist_bio', 'artist_comments', 'artist_date_created', 'artist_favorites', 'artist_id', 'artist_latitude', 'artist_location', 'artist_longitude', 'artist_members', 'artist_name', 'artist_related_projects', 'artist_tags', 'artist_website', 'artist_wikipedia_page', 'set_split', 'set_subset', 'track_bit_rate', 'track_comments', 'track_composer', 'track_date_created', 'track_date_recorded', 'track_duration', 'track_favorites', 'track_genre_top', 'track_genres', 'track_genres_all', 'track_information', 'track_interest', 'track_language_code', 'track_license', 'track_listens', 'track_lyricist', 'track_number', 'track_publisher', 'track_tags', 'track_title', 'chroma_cens_kurtosis_01', 'chroma_cens_kurtosis_02', 'chroma_cens_kurtosis_03', 'chroma_cens_kurtosis_04', 'chroma_cens_kurtosis_05', 'chroma_cens_kurtosis_06', 'chroma_cens_kurtosis_07', 'chroma_cens_kurtosis_08', 'chroma_cens_kurtosis_09', 'chroma_cens_kurtosis_10', 'chroma_cens_kurtosis_11', 'chroma_cens_kurtosis_12', 'chroma_cens_max_01', 'chroma_cens_max_02', 'chroma_cens_max_03', 'chroma_cens_max_04', 'chroma_cens_max_05', 'chroma_cens_max_06', 'chroma_cens_max_07', 'chroma_cens_max_08', 'chroma_cens_max_09', 'chroma_cens_max_10', 'chroma_cens_max_11', 'chroma_cens_max_12', 'chroma_cens_mean_01', 'chroma_cens_mean_02', 'chroma_cens_mean_03', 'chroma_cens_mean_04', 'chroma_cens_mean_05', 'chroma_cens_mean_06', 'chroma_cens_mean_07', 'chroma_cens_mean_08', 'chroma_cens_mean_09', 'chroma_cens_mean_10', 'chroma_cens_mean_11', 'chroma_cens_mean_12', 'chroma_cens_median_01', 'chroma_cens_median_02', 'chroma_cens_median_03', 'chroma_cens_median_04', 'chroma_cens_median_05', 'chroma_cens_median_06', 'chroma_cens_median_07', 'chroma_cens_median_08', 'chroma_cens_median_09', 'chroma_cens_median_10', 'chroma_cens_median_11', 'chroma_cens_median_12', 'chroma_cens_min_01', 'chroma_cens_min_02', 'chroma_cens_min_03', 'chroma_cens_min_04', 'chroma_cens_min_05', 'chroma_cens_min_06', 'chroma_cens_min_07', 'chroma_cens_min_08', 'chroma_cens_min_09', 'chroma_cens_min_10', 'chroma_cens_min_11', 'chroma_cens_min_12', 'chroma_cens_skew_01', 'chroma_cens_skew_02', 'chroma_cens_skew_03', 'chroma_cens_skew_04', 'chroma_cens_skew_05', 'chroma_cens_skew_06', 'chroma_cens_skew_07', 'chroma_cens_skew_08', 'chroma_cens_skew_09', 'chroma_cens_skew_10', 'chroma_cens_skew_11', 'chroma_cens_skew_12', 'chroma_cens_std_01', 'chroma_cens_std_02', 'chroma_cens_std_03', 'chroma_cens_std_04', 'chroma_cens_std_05', 'chroma_cens_std_06', 'chroma_cens_std_07', 'chroma_cens_std_08', 'chroma_cens_std_09', 'chroma_cens_std_10', 'chroma_cens_std_11', 'chroma_cens_std_12', 'chroma_cqt_kurtosis_01', 'chroma_cqt_kurtosis_02', 'chroma_cqt_kurtosis_03', 'chroma_cqt_kurtosis_04', 'chroma_cqt_kurtosis_05', 'chroma_cqt_kurtosis_06', 'chroma_cqt_kurtosis_07', 'chroma_cqt_kurtosis_08', 'chroma_cqt_kurtosis_09', 'chroma_cqt_kurtosis_10', 'chroma_cqt_kurtosis_11', 'chroma_cqt_kurtosis_12', 'chroma_cqt_max_01', 'chroma_cqt_max_02', 'chroma_cqt_max_03', 'chroma_cqt_max_04', 'chroma_cqt_max_05', 'chroma_cqt_max_06', 'chroma_cqt_max_07', 'chroma_cqt_max_08', 'chroma_cqt_max_09', 'chroma_cqt_max_10', 'chroma_cqt_max_11', 'chroma_cqt_max_12', 'chroma_cqt_mean_01', 'chroma_cqt_mean_02', 'chroma_cqt_mean_03', 'chroma_cqt_mean_04', 'chroma_cqt_mean_05', 'chroma_cqt_mean_06', 'chroma_cqt_mean_07', 'chroma_cqt_mean_08', 'chroma_cqt_mean_09', 'chroma_cqt_mean_10', 'chroma_cqt_mean_11', 'chroma_cqt_mean_12', 'chroma_cqt_median_01', 'chroma_cqt_median_02', 'chroma_cqt_median_03', 'chroma_cqt_median_04', 'chroma_cqt_median_05', 'chroma_cqt_median_06', 'chroma_cqt_median_07', 'chroma_cqt_median_08', 'chroma_cqt_median_09', 'chroma_cqt_median_10', 'chroma_cqt_median_11', 'chroma_cqt_median_12', 'chroma_cqt_min_01', 'chroma_cqt_min_02', 'chroma_cqt_min_03', 'chroma_cqt_min_04', 'chroma_cqt_min_05', 'chroma_cqt_min_06', 'chroma_cqt_min_07', 'chroma_cqt_min_08', 'chroma_cqt_min_09', 'chroma_cqt_min_10', 'chroma_cqt_min_11', 'chroma_cqt_min_12', 'chroma_cqt_skew_01', 'chroma_cqt_skew_02', 'chroma_cqt_skew_03', 'chroma_cqt_skew_04', 'chroma_cqt_skew_05', 'chroma_cqt_skew_06', 'chroma_cqt_skew_07', 'chroma_cqt_skew_08', 'chroma_cqt_skew_09', 'chroma_cqt_skew_10', 'chroma_cqt_skew_11', 'chroma_cqt_skew_12', 'chroma_cqt_std_01', 'chroma_cqt_std_02', 'chroma_cqt_std_03', 'chroma_cqt_std_04', 'chroma_cqt_std_05', 'chroma_cqt_std_06', 'chroma_cqt_std_07', 'chroma_cqt_std_08', 'chroma_cqt_std_09', 'chroma_cqt_std_10', 'chroma_cqt_std_11', 'chroma_cqt_std_12', 'chroma_stft_kurtosis_01', 'chroma_stft_kurtosis_02', 'chroma_stft_kurtosis_03', 'chroma_stft_kurtosis_04', 'chroma_stft_kurtosis_05', 'chroma_stft_kurtosis_06', 'chroma_stft_kurtosis_07', 'chroma_stft_kurtosis_08', 'chroma_stft_kurtosis_09', 'chroma_stft_kurtosis_10', 'chroma_stft_kurtosis_11', 'chroma_stft_kurtosis_12', 'chroma_stft_max_01', 'chroma_stft_max_02', 'chroma_stft_max_03', 'chroma_stft_max_04', 'chroma_stft_max_05', 'chroma_stft_max_06', 'chroma_stft_max_07', 'chroma_stft_max_08', 'chroma_stft_max_09', 'chroma_stft_max_10', 'chroma_stft_max_11', 'chroma_stft_max_12', 'chroma_stft_mean_01', 'chroma_stft_mean_02', 'chroma_stft_mean_03', 'chroma_stft_mean_04', 'chroma_stft_mean_05', 'chroma_stft_mean_06', 'chroma_stft_mean_07', 'chroma_stft_mean_08', 'chroma_stft_mean_09', 'chroma_stft_mean_10', 'chroma_stft_mean_11', 'chroma_stft_mean_12', 'chroma_stft_median_01', 'chroma_stft_median_02', 'chroma_stft_median_03', 'chroma_stft_median_04', 'chroma_stft_median_05', 'chroma_stft_median_06', 'chroma_stft_median_07', 'chroma_stft_median_08', 'chroma_stft_median_09', 'chroma_stft_median_10', 'chroma_stft_median_11', 'chroma_stft_median_12', 'chroma_stft_min_01', 'chroma_stft_min_02', 'chroma_stft_min_03', 'chroma_stft_min_04', 'chroma_stft_min_05', 'chroma_stft_min_06', 'chroma_stft_min_07', 'chroma_stft_min_08', 'chroma_stft_min_09', 'chroma_stft_min_10', 'chroma_stft_min_11', 'chroma_stft_min_12', 'chroma_stft_skew_01', 'chroma_stft_skew_02', 'chroma_stft_skew_03', 'chroma_stft_skew_04', 'chroma_stft_skew_05', 'chroma_stft_skew_06', 'chroma_stft_skew_07', 'chroma_stft_skew_08', 'chroma_stft_skew_09', 'chroma_stft_skew_10', 'chroma_stft_skew_11', 'chroma_stft_skew_12', 'chroma_stft_std_01', 'chroma_stft_std_02', 'chroma_stft_std_03', 'chroma_stft_std_04', 'chroma_stft_std_05', 'chroma_stft_std_06', 'chroma_stft_std_07', 'chroma_stft_std_08', 'chroma_stft_std_09', 'chroma_stft_std_10', 'chroma_stft_std_11', 'chroma_stft_std_12', 'mfcc_kurtosis_01', 'mfcc_kurtosis_02', 'mfcc_kurtosis_03', 'mfcc_kurtosis_04', 'mfcc_kurtosis_05', 'mfcc_kurtosis_06', 'mfcc_kurtosis_07', 'mfcc_kurtosis_08', 'mfcc_kurtosis_09', 'mfcc_kurtosis_10', 'mfcc_kurtosis_11', 'mfcc_kurtosis_12', 'mfcc_kurtosis_13', 'mfcc_kurtosis_14', 'mfcc_kurtosis_15', 'mfcc_kurtosis_16', 'mfcc_kurtosis_17', 'mfcc_kurtosis_18', 'mfcc_kurtosis_19', 'mfcc_kurtosis_20', 'mfcc_max_01', 'mfcc_max_02', 'mfcc_max_03', 'mfcc_max_04', 'mfcc_max_05', 'mfcc_max_06', 'mfcc_max_07', 'mfcc_max_08', 'mfcc_max_09', 'mfcc_max_10', 'mfcc_max_11', 'mfcc_max_12', 'mfcc_max_13', 'mfcc_max_14', 'mfcc_max_15', 'mfcc_max_16', 'mfcc_max_17', 'mfcc_max_18', 'mfcc_max_19', 'mfcc_max_20', 'mfcc_mean_01', 'mfcc_mean_02', 'mfcc_mean_03', 'mfcc_mean_04', 'mfcc_mean_05', 'mfcc_mean_06', 'mfcc_mean_07', 'mfcc_mean_08', 'mfcc_mean_09', 'mfcc_mean_10', 'mfcc_mean_11', 'mfcc_mean_12', 'mfcc_mean_13', 'mfcc_mean_14', 'mfcc_mean_15', 'mfcc_mean_16', 'mfcc_mean_17', 'mfcc_mean_18', 'mfcc_mean_19', 'mfcc_mean_20', 'mfcc_median_01', 'mfcc_median_02', 'mfcc_median_03', 'mfcc_median_04', 'mfcc_median_05', 'mfcc_median_06', 'mfcc_median_07', 'mfcc_median_08', 'mfcc_median_09', 'mfcc_median_10', 'mfcc_median_11', 'mfcc_median_12', 'mfcc_median_13', 'mfcc_median_14', 'mfcc_median_15', 'mfcc_median_16', 'mfcc_median_17', 'mfcc_median_18', 'mfcc_median_19', 'mfcc_median_20', 'mfcc_min_01', 'mfcc_min_02', 'mfcc_min_03', 'mfcc_min_04', 'mfcc_min_05', 'mfcc_min_06', 'mfcc_min_07', 'mfcc_min_08', 'mfcc_min_09', 'mfcc_min_10', 'mfcc_min_11', 'mfcc_min_12', 'mfcc_min_13', 'mfcc_min_14', 'mfcc_min_15', 'mfcc_min_16', 'mfcc_min_17', 'mfcc_min_18', 'mfcc_min_19', 'mfcc_min_20', 'mfcc_skew_01', 'mfcc_skew_02', 'mfcc_skew_03', 'mfcc_skew_04', 'mfcc_skew_05', 'mfcc_skew_06', 'mfcc_skew_07', 'mfcc_skew_08', 'mfcc_skew_09', 'mfcc_skew_10', 'mfcc_skew_11', 'mfcc_skew_12', 'mfcc_skew_13', 'mfcc_skew_14', 'mfcc_skew_15', 'mfcc_skew_16', 'mfcc_skew_17', 'mfcc_skew_18', 'mfcc_skew_19', 'mfcc_skew_20', 'mfcc_std_01', 'mfcc_std_02', 'mfcc_std_03', 'mfcc_std_04', 'mfcc_std_05', 'mfcc_std_06', 'mfcc_std_07', 'mfcc_std_08', 'mfcc_std_09', 'mfcc_std_10', 'mfcc_std_11', 'mfcc_std_12', 'mfcc_std_13', 'mfcc_std_14', 'mfcc_std_15', 'mfcc_std_16', 'mfcc_std_17', 'mfcc_std_18', 'mfcc_std_19', 'mfcc_std_20', 'rmse_kurtosis_01', 'rmse_max_01', 'rmse_mean_01', 'rmse_median_01', 'rmse_min_01', 'rmse_skew_01', 'rmse_std_01', 'spectral_bandwidth_kurtosis_01', 'spectral_bandwidth_max_01', 'spectral_bandwidth_mean_01', 'spectral_bandwidth_median_01', 'spectral_bandwidth_min_01', 'spectral_bandwidth_skew_01', 'spectral_bandwidth_std_01', 'spectral_centroid_kurtosis_01', 'spectral_centroid_max_01', 'spectral_centroid_mean_01', 'spectral_centroid_median_01', 'spectral_centroid_min_01', 'spectral_centroid_skew_01', 'spectral_centroid_std_01', 'spectral_contrast_kurtosis_01', 'spectral_contrast_kurtosis_02', 'spectral_contrast_kurtosis_03', 'spectral_contrast_kurtosis_04', 'spectral_contrast_kurtosis_05', 'spectral_contrast_kurtosis_06', 'spectral_contrast_kurtosis_07', 'spectral_contrast_max_01', 'spectral_contrast_max_02', 'spectral_contrast_max_03', 'spectral_contrast_max_04', 'spectral_contrast_max_05', 'spectral_contrast_max_06', 'spectral_contrast_max_07', 'spectral_contrast_mean_01', 'spectral_contrast_mean_02', 'spectral_contrast_mean_03', 'spectral_contrast_mean_04', 'spectral_contrast_mean_05', 'spectral_contrast_mean_06', 'spectral_contrast_mean_07', 'spectral_contrast_median_01', 'spectral_contrast_median_02', 'spectral_contrast_median_03', 'spectral_contrast_median_04', 'spectral_contrast_median_05', 'spectral_contrast_median_06', 'spectral_contrast_median_07', 'spectral_contrast_min_01', 'spectral_contrast_min_02', 'spectral_contrast_min_03', 'spectral_contrast_min_04', 'spectral_contrast_min_05', 'spectral_contrast_min_06', 'spectral_contrast_min_07', 'spectral_contrast_skew_01', 'spectral_contrast_skew_02', 'spectral_contrast_skew_03', 'spectral_contrast_skew_04', 'spectral_contrast_skew_05', 'spectral_contrast_skew_06', 'spectral_contrast_skew_07', 'spectral_contrast_std_01', 'spectral_contrast_std_02', 'spectral_contrast_std_03', 'spectral_contrast_std_04', 'spectral_contrast_std_05', 'spectral_contrast_std_06', 'spectral_contrast_std_07', 'spectral_rolloff_kurtosis_01', 'spectral_rolloff_max_01', 'spectral_rolloff_mean_01', 'spectral_rolloff_median_01', 'spectral_rolloff_min_01', 'spectral_rolloff_skew_01', 'spectral_rolloff_std_01', 'tonnetz_kurtosis_01', 'tonnetz_kurtosis_02', 'tonnetz_kurtosis_03', 'tonnetz_kurtosis_04', 'tonnetz_kurtosis_05', 'tonnetz_kurtosis_06', 'tonnetz_max_01', 'tonnetz_max_02', 'tonnetz_max_03', 'tonnetz_max_04', 'tonnetz_max_05', 'tonnetz_max_06', 'tonnetz_mean_01', 'tonnetz_mean_02', 'tonnetz_mean_03', 'tonnetz_mean_04', 'tonnetz_mean_05', 'tonnetz_mean_06', 'tonnetz_median_01', 'tonnetz_median_02', 'tonnetz_median_03', 'tonnetz_median_04', 'tonnetz_median_05', 'tonnetz_median_06', 'tonnetz_min_01', 'tonnetz_min_02', 'tonnetz_min_03', 'tonnetz_min_04', 'tonnetz_min_05', 'tonnetz_min_06', 'tonnetz_skew_01', 'tonnetz_skew_02', 'tonnetz_skew_03', 'tonnetz_skew_04', 'tonnetz_skew_05', 'tonnetz_skew_06', 'tonnetz_std_01', 'tonnetz_std_02', 'tonnetz_std_03', 'tonnetz_std_04', 'tonnetz_std_05', 'tonnetz_std_06', 'zcr_kurtosis_01', 'zcr_max_01', 'zcr_mean_01', 'zcr_median_01', 'zcr_min_01', 'zcr_skew_01', 'zcr_std_01', 'echonest_audio_features_acousticness', 'echonest_audio_features_danceability', 'echonest_audio_features_energy', 'echonest_audio_features_instrumentalness', 'echonest_audio_features_liveness', 'echonest_audio_features_speechiness', 'echonest_audio_features_tempo', 'echonest_audio_features_valence', 'echonest_metadata_album_date', 'echonest_metadata_album_name', 'echonest_metadata_artist_latitude', 'echonest_metadata_artist_location', 'echonest_metadata_artist_longitude', 'echonest_metadata_artist_name', 'echonest_metadata_release', 'echonest_ranks_artist_discovery_rank', 'echonest_ranks_artist_familiarity_rank', 'echonest_ranks_artist_hotttnesss_rank', 'echonest_ranks_song_currency_rank', 'echonest_ranks_song_hotttnesss_rank', 'echonest_social_features_artist_discovery', 'echonest_social_features_artist_familiarity', 'echonest_social_features_artist_hotttnesss', 'echonest_social_features_song_currency', 'echonest_social_features_song_hotttnesss', 'echonest_temporal_features_000', 'echonest_temporal_features_001', 'echonest_temporal_features_002', 'echonest_temporal_features_003', 'echonest_temporal_features_004', 'echonest_temporal_features_005', 'echonest_temporal_features_006', 'echonest_temporal_features_007', 'echonest_temporal_features_008', 'echonest_temporal_features_009', 'echonest_temporal_features_010', 'echonest_temporal_features_011', 'echonest_temporal_features_012', 'echonest_temporal_features_013', 'echonest_temporal_features_014', 'echonest_temporal_features_015', 'echonest_temporal_features_016', 'echonest_temporal_features_017', 'echonest_temporal_features_018', 'echonest_temporal_features_019', 'echonest_temporal_features_020', 'echonest_temporal_features_021', 'echonest_temporal_features_022', 'echonest_temporal_features_023', 'echonest_temporal_features_024', 'echonest_temporal_features_025', 'echonest_temporal_features_026', 'echonest_temporal_features_027', 'echonest_temporal_features_028', 'echonest_temporal_features_029', 'echonest_temporal_features_030', 'echonest_temporal_features_031', 'echonest_temporal_features_032', 'echonest_temporal_features_033', 'echonest_temporal_features_034', 'echonest_temporal_features_035', 'echonest_temporal_features_036', 'echonest_temporal_features_037', 'echonest_temporal_features_038', 'echonest_temporal_features_039', 'echonest_temporal_features_040', 'echonest_temporal_features_041', 'echonest_temporal_features_042', 'echonest_temporal_features_043', 'echonest_temporal_features_044', 'echonest_temporal_features_045', 'echonest_temporal_features_046', 'echonest_temporal_features_047', 'echonest_temporal_features_048', 'echonest_temporal_features_049', 'echonest_temporal_features_050', 'echonest_temporal_features_051', 'echonest_temporal_features_052', 'echonest_temporal_features_053', 'echonest_temporal_features_054', 'echonest_temporal_features_055', 'echonest_temporal_features_056', 'echonest_temporal_features_057', 'echonest_temporal_features_058', 'echonest_temporal_features_059', 'echonest_temporal_features_060', 'echonest_temporal_features_061', 'echonest_temporal_features_062', 'echonest_temporal_features_063', 'echonest_temporal_features_064', 'echonest_temporal_features_065', 'echonest_temporal_features_066', 'echonest_temporal_features_067', 'echonest_temporal_features_068', 'echonest_temporal_features_069', 'echonest_temporal_features_070', 'echonest_temporal_features_071', 'echonest_temporal_features_072', 'echonest_temporal_features_073', 'echonest_temporal_features_074', 'echonest_temporal_features_075', 'echonest_temporal_features_076', 'echonest_temporal_features_077', 'echonest_temporal_features_078', 'echonest_temporal_features_079', 'echonest_temporal_features_080', 'echonest_temporal_features_081', 'echonest_temporal_features_082', 'echonest_temporal_features_083', 'echonest_temporal_features_084', 'echonest_temporal_features_085', 'echonest_temporal_features_086', 'echonest_temporal_features_087', 'echonest_temporal_features_088', 'echonest_temporal_features_089', 'echonest_temporal_features_090', 'echonest_temporal_features_091', 'echonest_temporal_features_092', 'echonest_temporal_features_093', 'echonest_temporal_features_094', 'echonest_temporal_features_095', 'echonest_temporal_features_096', 'echonest_temporal_features_097', 'echonest_temporal_features_098', 'echonest_temporal_features_099', 'echonest_temporal_features_100', 'echonest_temporal_features_101', 'echonest_temporal_features_102', 'echonest_temporal_features_103', 'echonest_temporal_features_104', 'echonest_temporal_features_105', 'echonest_temporal_features_106', 'echonest_temporal_features_107', 'echonest_temporal_features_108', 'echonest_temporal_features_109', 'echonest_temporal_features_110', 'echonest_temporal_features_111', 'echonest_temporal_features_112', 'echonest_temporal_features_113', 'echonest_temporal_features_114', 'echonest_temporal_features_115', 'echonest_temporal_features_116', 'echonest_temporal_features_117', 'echonest_temporal_features_118', 'echonest_temporal_features_119', 'echonest_temporal_features_120', 'echonest_temporal_features_121', 'echonest_temporal_features_122', 'echonest_temporal_features_123', 'echonest_temporal_features_124', 'echonest_temporal_features_125', 'echonest_temporal_features_126', 'echonest_temporal_features_127', 'echonest_temporal_features_128', 'echonest_temporal_features_129', 'echonest_temporal_features_130', 'echonest_temporal_features_131', 'echonest_temporal_features_132', 'echonest_temporal_features_133', 'echonest_temporal_features_134', 'echonest_temporal_features_135', 'echonest_temporal_features_136', 'echonest_temporal_features_137', 'echonest_temporal_features_138', 'echonest_temporal_features_139', 'echonest_temporal_features_140', 'echonest_temporal_features_141', 'echonest_temporal_features_142', 'echonest_temporal_features_143', 'echonest_temporal_features_144', 'echonest_temporal_features_145', 'echonest_temporal_features_146', 'echonest_temporal_features_147', 'echonest_temporal_features_148', 'echonest_temporal_features_149', 'echonest_temporal_features_150', 'echonest_temporal_features_151', 'echonest_temporal_features_152', 'echonest_temporal_features_153', 'echonest_temporal_features_154', 'echonest_temporal_features_155', 'echonest_temporal_features_156', 'echonest_temporal_features_157', 'echonest_temporal_features_158', 'echonest_temporal_features_159', 'echonest_temporal_features_160', 'echonest_temporal_features_161', 'echonest_temporal_features_162', 'echonest_temporal_features_163', 'echonest_temporal_features_164', 'echonest_temporal_features_165', 'echonest_temporal_features_166', 'echonest_temporal_features_167', 'echonest_temporal_features_168', 'echonest_temporal_features_169', 'echonest_temporal_features_170', 'echonest_temporal_features_171', 'echonest_temporal_features_172', 'echonest_temporal_features_173', 'echonest_temporal_features_174', 'echonest_temporal_features_175', 'echonest_temporal_features_176', 'echonest_temporal_features_177', 'echonest_temporal_features_178', 'echonest_temporal_features_179', 'echonest_temporal_features_180', 'echonest_temporal_features_181', 'echonest_temporal_features_182', 'echonest_temporal_features_183', 'echonest_temporal_features_184', 'echonest_temporal_features_185', 'echonest_temporal_features_186', 'echonest_temporal_features_187', 'echonest_temporal_features_188', 'echonest_temporal_features_189', 'echonest_temporal_features_190', 'echonest_temporal_features_191', 'echonest_temporal_features_192', 'echonest_temporal_features_193', 'echonest_temporal_features_194', 'echonest_temporal_features_195', 'echonest_temporal_features_196', 'echonest_temporal_features_197', 'echonest_temporal_features_198', 'echonest_temporal_features_199', 'echonest_temporal_features_200', 'echonest_temporal_features_201', 'echonest_temporal_features_202', 'echonest_temporal_features_203', 'echonest_temporal_features_204']\n"
     ]
    }
   ],
   "source": [
    "# Print the names of the first 100 columns\n",
    "print(echo_df.columns[:800].tolist())"
   ]
  },
  {
   "cell_type": "code",
   "execution_count": 7,
   "id": "87963e30",
   "metadata": {},
   "outputs": [
    {
     "data": {
      "text/html": [
       "<div>\n",
       "<style scoped>\n",
       "    .dataframe tbody tr th:only-of-type {\n",
       "        vertical-align: middle;\n",
       "    }\n",
       "\n",
       "    .dataframe tbody tr th {\n",
       "        vertical-align: top;\n",
       "    }\n",
       "\n",
       "    .dataframe thead th {\n",
       "        text-align: right;\n",
       "    }\n",
       "</style>\n",
       "<table border=\"1\" class=\"dataframe\">\n",
       "  <thead>\n",
       "    <tr style=\"text-align: right;\">\n",
       "      <th></th>\n",
       "      <th>album_date_created</th>\n",
       "      <th>album_date_released</th>\n",
       "      <th>album_engineer</th>\n",
       "      <th>album_information</th>\n",
       "      <th>album_producer</th>\n",
       "      <th>album_tags</th>\n",
       "      <th>album_title</th>\n",
       "      <th>album_type</th>\n",
       "      <th>artist_active_year_begin</th>\n",
       "      <th>artist_active_year_end</th>\n",
       "      <th>...</th>\n",
       "      <th>echonest_temporal_features_214</th>\n",
       "      <th>echonest_temporal_features_215</th>\n",
       "      <th>echonest_temporal_features_216</th>\n",
       "      <th>echonest_temporal_features_217</th>\n",
       "      <th>echonest_temporal_features_218</th>\n",
       "      <th>echonest_temporal_features_219</th>\n",
       "      <th>echonest_temporal_features_220</th>\n",
       "      <th>echonest_temporal_features_221</th>\n",
       "      <th>echonest_temporal_features_222</th>\n",
       "      <th>echonest_temporal_features_223</th>\n",
       "    </tr>\n",
       "  </thead>\n",
       "  <tbody>\n",
       "    <tr>\n",
       "      <th>0</th>\n",
       "      <td>2008-11-26 01:44:45</td>\n",
       "      <td>2009-01-05</td>\n",
       "      <td>NaN</td>\n",
       "      <td>&lt;p&gt;&lt;/p&gt;</td>\n",
       "      <td>NaN</td>\n",
       "      <td>[]</td>\n",
       "      <td>AWOL - A Way Of Life</td>\n",
       "      <td>Album</td>\n",
       "      <td>2006-01-01</td>\n",
       "      <td>NaN</td>\n",
       "      <td>...</td>\n",
       "      <td>-0.015394</td>\n",
       "      <td>-0.196491</td>\n",
       "      <td>-0.541608</td>\n",
       "      <td>-0.746446</td>\n",
       "      <td>-0.039155</td>\n",
       "      <td>-0.406784</td>\n",
       "      <td>-0.101957</td>\n",
       "      <td>-0.101071</td>\n",
       "      <td>0.886169</td>\n",
       "      <td>0.549670</td>\n",
       "    </tr>\n",
       "    <tr>\n",
       "      <th>1</th>\n",
       "      <td>2008-11-26 01:44:45</td>\n",
       "      <td>2009-01-05</td>\n",
       "      <td>NaN</td>\n",
       "      <td>&lt;p&gt;&lt;/p&gt;</td>\n",
       "      <td>NaN</td>\n",
       "      <td>[]</td>\n",
       "      <td>AWOL - A Way Of Life</td>\n",
       "      <td>Album</td>\n",
       "      <td>2006-01-01</td>\n",
       "      <td>NaN</td>\n",
       "      <td>...</td>\n",
       "      <td>0.224566</td>\n",
       "      <td>-0.092586</td>\n",
       "      <td>-0.360435</td>\n",
       "      <td>-0.411743</td>\n",
       "      <td>-0.023681</td>\n",
       "      <td>-0.402210</td>\n",
       "      <td>0.382355</td>\n",
       "      <td>0.383277</td>\n",
       "      <td>1.407026</td>\n",
       "      <td>0.827399</td>\n",
       "    </tr>\n",
       "    <tr>\n",
       "      <th>2</th>\n",
       "      <td>2008-11-26 01:44:45</td>\n",
       "      <td>2009-01-05</td>\n",
       "      <td>NaN</td>\n",
       "      <td>&lt;p&gt;&lt;/p&gt;</td>\n",
       "      <td>NaN</td>\n",
       "      <td>[]</td>\n",
       "      <td>AWOL - A Way Of Life</td>\n",
       "      <td>Album</td>\n",
       "      <td>2006-01-01</td>\n",
       "      <td>NaN</td>\n",
       "      <td>...</td>\n",
       "      <td>-0.188678</td>\n",
       "      <td>0.038954</td>\n",
       "      <td>-0.372152</td>\n",
       "      <td>-0.209727</td>\n",
       "      <td>-0.029779</td>\n",
       "      <td>-0.767258</td>\n",
       "      <td>0.350895</td>\n",
       "      <td>0.352617</td>\n",
       "      <td>1.304665</td>\n",
       "      <td>0.965594</td>\n",
       "    </tr>\n",
       "    <tr>\n",
       "      <th>3</th>\n",
       "      <td>2008-11-26 01:45:08</td>\n",
       "      <td>2008-02-06</td>\n",
       "      <td>NaN</td>\n",
       "      <td>NaN</td>\n",
       "      <td>NaN</td>\n",
       "      <td>[]</td>\n",
       "      <td>Constant Hitmaker</td>\n",
       "      <td>Album</td>\n",
       "      <td>NaN</td>\n",
       "      <td>NaN</td>\n",
       "      <td>...</td>\n",
       "      <td>-0.993261</td>\n",
       "      <td>0.536688</td>\n",
       "      <td>-0.182870</td>\n",
       "      <td>0.139607</td>\n",
       "      <td>-0.010956</td>\n",
       "      <td>1.124769</td>\n",
       "      <td>0.851655</td>\n",
       "      <td>0.849262</td>\n",
       "      <td>2.127522</td>\n",
       "      <td>1.527014</td>\n",
       "    </tr>\n",
       "    <tr>\n",
       "      <th>4</th>\n",
       "      <td>2008-11-26 01:44:45</td>\n",
       "      <td>2009-01-05</td>\n",
       "      <td>NaN</td>\n",
       "      <td>&lt;p&gt;&lt;/p&gt;</td>\n",
       "      <td>NaN</td>\n",
       "      <td>[]</td>\n",
       "      <td>AWOL - A Way Of Life</td>\n",
       "      <td>Album</td>\n",
       "      <td>2006-01-01</td>\n",
       "      <td>NaN</td>\n",
       "      <td>...</td>\n",
       "      <td>0.300443</td>\n",
       "      <td>-0.418366</td>\n",
       "      <td>-0.530074</td>\n",
       "      <td>-0.666786</td>\n",
       "      <td>-0.004174</td>\n",
       "      <td>-0.377507</td>\n",
       "      <td>1.426003</td>\n",
       "      <td>1.426971</td>\n",
       "      <td>2.924606</td>\n",
       "      <td>2.713902</td>\n",
       "    </tr>\n",
       "  </tbody>\n",
       "</table>\n",
       "<p>5 rows × 819 columns</p>\n",
       "</div>"
      ],
      "text/plain": [
       "    album_date_created album_date_released album_engineer album_information  \\\n",
       "0  2008-11-26 01:44:45          2009-01-05            NaN           <p></p>   \n",
       "1  2008-11-26 01:44:45          2009-01-05            NaN           <p></p>   \n",
       "2  2008-11-26 01:44:45          2009-01-05            NaN           <p></p>   \n",
       "3  2008-11-26 01:45:08          2008-02-06            NaN               NaN   \n",
       "4  2008-11-26 01:44:45          2009-01-05            NaN           <p></p>   \n",
       "\n",
       "  album_producer album_tags           album_title album_type  \\\n",
       "0            NaN         []  AWOL - A Way Of Life      Album   \n",
       "1            NaN         []  AWOL - A Way Of Life      Album   \n",
       "2            NaN         []  AWOL - A Way Of Life      Album   \n",
       "3            NaN         []     Constant Hitmaker      Album   \n",
       "4            NaN         []  AWOL - A Way Of Life      Album   \n",
       "\n",
       "  artist_active_year_begin artist_active_year_end  ...  \\\n",
       "0               2006-01-01                    NaN  ...   \n",
       "1               2006-01-01                    NaN  ...   \n",
       "2               2006-01-01                    NaN  ...   \n",
       "3                      NaN                    NaN  ...   \n",
       "4               2006-01-01                    NaN  ...   \n",
       "\n",
       "  echonest_temporal_features_214 echonest_temporal_features_215  \\\n",
       "0                      -0.015394                      -0.196491   \n",
       "1                       0.224566                      -0.092586   \n",
       "2                      -0.188678                       0.038954   \n",
       "3                      -0.993261                       0.536688   \n",
       "4                       0.300443                      -0.418366   \n",
       "\n",
       "  echonest_temporal_features_216 echonest_temporal_features_217  \\\n",
       "0                      -0.541608                      -0.746446   \n",
       "1                      -0.360435                      -0.411743   \n",
       "2                      -0.372152                      -0.209727   \n",
       "3                      -0.182870                       0.139607   \n",
       "4                      -0.530074                      -0.666786   \n",
       "\n",
       "  echonest_temporal_features_218 echonest_temporal_features_219  \\\n",
       "0                      -0.039155                      -0.406784   \n",
       "1                      -0.023681                      -0.402210   \n",
       "2                      -0.029779                      -0.767258   \n",
       "3                      -0.010956                       1.124769   \n",
       "4                      -0.004174                      -0.377507   \n",
       "\n",
       "  echonest_temporal_features_220 echonest_temporal_features_221  \\\n",
       "0                      -0.101957                      -0.101071   \n",
       "1                       0.382355                       0.383277   \n",
       "2                       0.350895                       0.352617   \n",
       "3                       0.851655                       0.849262   \n",
       "4                       1.426003                       1.426971   \n",
       "\n",
       "  echonest_temporal_features_222 echonest_temporal_features_223  \n",
       "0                       0.886169                       0.549670  \n",
       "1                       1.407026                       0.827399  \n",
       "2                       1.304665                       0.965594  \n",
       "3                       2.127522                       1.527014  \n",
       "4                       2.924606                       2.713902  \n",
       "\n",
       "[5 rows x 819 columns]"
      ]
     },
     "execution_count": 7,
     "metadata": {},
     "output_type": "execute_result"
    }
   ],
   "source": [
    "numeric_cols = echo_df.select_dtypes(include=['float64', 'int64']).columns\n",
    "\n",
    "# Standardize only numeric columns\n",
    "df_std = (echo_df[numeric_cols] - echo_df[numeric_cols].mean()) / echo_df[numeric_cols].std()\n",
    "\n",
    "# Concatenate the standardized numeric columns with non-numeric columns\n",
    "df_std = pd.concat([echo_df.drop(columns=numeric_cols), df_std], axis=1)\n",
    "\n",
    "# Display the head of the resulting DataFrame\n",
    "df_std.head()"
   ]
  },
  {
   "cell_type": "markdown",
   "id": "1de0c067",
   "metadata": {},
   "source": [
    "### Drop numerical Columns"
   ]
  },
  {
   "cell_type": "code",
   "execution_count": 8,
   "id": "d42e4ca7",
   "metadata": {},
   "outputs": [],
   "source": [
    "columns_to_drop = ['album_comments', 'album_date_created', 'album_date_released',\n",
    "                    'album_engineer', 'album_favorites', 'album_id',\n",
    "                    'album_information', 'album_listens', 'album_producer',\n",
    "                    'album_tags', 'album_title', 'album_tracks', 'album_type',\n",
    "                    'artist_active_year_begin', 'artist_active_year_end',\n",
    "                    'artist_associated_labels', 'artist_bio', 'artist_comments',\n",
    "                    'artist_date_created', 'artist_favorites', 'artist_id',\n",
    "                    'artist_latitude', 'artist_location', 'artist_longitude',\n",
    "                    'artist_members', 'artist_name', 'artist_related_projects',\n",
    "                    'artist_tags', 'artist_website', 'artist_wikipedia_page',\n",
    "                    'set_split', 'set_subset', 'track_bit_rate', 'track_comments',\n",
    "                    'track_composer', 'track_date_created', 'track_date_recorded',\n",
    "                    'track_duration', 'track_favorites', 'track_genre_top',\n",
    "                    'track_genres', 'track_genres_all', 'track_information',\n",
    "                    'track_interest', 'track_language_code', 'track_license',\n",
    "                    'track_listens', 'track_lyricist', 'track_number',\n",
    "                    'track_publisher', 'track_tags', 'track_title']\n",
    "\n",
    "df_std.drop(columns=columns_to_drop, inplace=True)"
   ]
  },
  {
   "cell_type": "code",
   "execution_count": 9,
   "id": "1736d4e6",
   "metadata": {},
   "outputs": [],
   "source": [
    "columns_to_drop = ['echonest_metadata_album_date',\n",
    "                   'echonest_metadata_album_name',\n",
    "                   'echonest_metadata_artist_latitude',\n",
    "                   'echonest_metadata_artist_location',\n",
    "                   'echonest_metadata_artist_longitude',\n",
    "                   'echonest_metadata_artist_name',\n",
    "                   'echonest_metadata_release',\n",
    "                   'echonest_ranks_artist_discovery_rank',\n",
    "                   'echonest_ranks_artist_familiarity_rank',\n",
    "                   'echonest_ranks_artist_hotttnesss_rank',\n",
    "                   'echonest_metadata_artist_location',\n",
    "                   'echonest_metadata_artist_name',\n",
    "                   'echonest_metadata_release'\n",
    "                  ]"
   ]
  },
  {
   "cell_type": "code",
   "execution_count": 10,
   "id": "4acab288",
   "metadata": {},
   "outputs": [],
   "source": [
    "df_std.drop(columns=columns_to_drop, inplace=True)"
   ]
  },
  {
   "cell_type": "code",
   "execution_count": 11,
   "id": "21efb123",
   "metadata": {},
   "outputs": [
    {
     "data": {
      "text/html": [
       "<div>\n",
       "<style scoped>\n",
       "    .dataframe tbody tr th:only-of-type {\n",
       "        vertical-align: middle;\n",
       "    }\n",
       "\n",
       "    .dataframe tbody tr th {\n",
       "        vertical-align: top;\n",
       "    }\n",
       "\n",
       "    .dataframe thead th {\n",
       "        text-align: right;\n",
       "    }\n",
       "</style>\n",
       "<table border=\"1\" class=\"dataframe\">\n",
       "  <thead>\n",
       "    <tr style=\"text-align: right;\">\n",
       "      <th></th>\n",
       "      <th>chroma_cens_kurtosis_01</th>\n",
       "      <th>chroma_cens_kurtosis_02</th>\n",
       "      <th>chroma_cens_kurtosis_03</th>\n",
       "      <th>chroma_cens_kurtosis_04</th>\n",
       "      <th>chroma_cens_kurtosis_05</th>\n",
       "      <th>chroma_cens_kurtosis_06</th>\n",
       "      <th>chroma_cens_kurtosis_07</th>\n",
       "      <th>chroma_cens_kurtosis_08</th>\n",
       "      <th>chroma_cens_kurtosis_09</th>\n",
       "      <th>chroma_cens_kurtosis_10</th>\n",
       "      <th>...</th>\n",
       "      <th>echonest_temporal_features_214</th>\n",
       "      <th>echonest_temporal_features_215</th>\n",
       "      <th>echonest_temporal_features_216</th>\n",
       "      <th>echonest_temporal_features_217</th>\n",
       "      <th>echonest_temporal_features_218</th>\n",
       "      <th>echonest_temporal_features_219</th>\n",
       "      <th>echonest_temporal_features_220</th>\n",
       "      <th>echonest_temporal_features_221</th>\n",
       "      <th>echonest_temporal_features_222</th>\n",
       "      <th>echonest_temporal_features_223</th>\n",
       "    </tr>\n",
       "  </thead>\n",
       "  <tbody>\n",
       "    <tr>\n",
       "      <th>0</th>\n",
       "      <td>4.419124</td>\n",
       "      <td>3.603920</td>\n",
       "      <td>0.045437</td>\n",
       "      <td>1.117494</td>\n",
       "      <td>0.714768</td>\n",
       "      <td>0.196248</td>\n",
       "      <td>1.001587</td>\n",
       "      <td>0.620118</td>\n",
       "      <td>0.380048</td>\n",
       "      <td>0.509364</td>\n",
       "      <td>...</td>\n",
       "      <td>-0.015394</td>\n",
       "      <td>-0.196491</td>\n",
       "      <td>-0.541608</td>\n",
       "      <td>-0.746446</td>\n",
       "      <td>-0.039155</td>\n",
       "      <td>-0.406784</td>\n",
       "      <td>-0.101957</td>\n",
       "      <td>-0.101071</td>\n",
       "      <td>0.886169</td>\n",
       "      <td>0.549670</td>\n",
       "    </tr>\n",
       "    <tr>\n",
       "      <th>1</th>\n",
       "      <td>1.097430</td>\n",
       "      <td>0.483653</td>\n",
       "      <td>0.106345</td>\n",
       "      <td>1.941079</td>\n",
       "      <td>0.802157</td>\n",
       "      <td>-0.023927</td>\n",
       "      <td>0.919823</td>\n",
       "      <td>0.217405</td>\n",
       "      <td>0.020102</td>\n",
       "      <td>0.213077</td>\n",
       "      <td>...</td>\n",
       "      <td>0.224566</td>\n",
       "      <td>-0.092586</td>\n",
       "      <td>-0.360435</td>\n",
       "      <td>-0.411743</td>\n",
       "      <td>-0.023681</td>\n",
       "      <td>-0.402210</td>\n",
       "      <td>0.382355</td>\n",
       "      <td>0.383277</td>\n",
       "      <td>1.407026</td>\n",
       "      <td>0.827399</td>\n",
       "    </tr>\n",
       "    <tr>\n",
       "      <th>2</th>\n",
       "      <td>0.242853</td>\n",
       "      <td>-0.101476</td>\n",
       "      <td>-0.290230</td>\n",
       "      <td>0.542347</td>\n",
       "      <td>0.946592</td>\n",
       "      <td>0.362155</td>\n",
       "      <td>-0.711991</td>\n",
       "      <td>-0.269906</td>\n",
       "      <td>0.285052</td>\n",
       "      <td>0.385159</td>\n",
       "      <td>...</td>\n",
       "      <td>-0.188678</td>\n",
       "      <td>0.038954</td>\n",
       "      <td>-0.372152</td>\n",
       "      <td>-0.209727</td>\n",
       "      <td>-0.029779</td>\n",
       "      <td>-0.767258</td>\n",
       "      <td>0.350895</td>\n",
       "      <td>0.352617</td>\n",
       "      <td>1.304665</td>\n",
       "      <td>0.965594</td>\n",
       "    </tr>\n",
       "    <tr>\n",
       "      <th>3</th>\n",
       "      <td>2.235662</td>\n",
       "      <td>-0.250543</td>\n",
       "      <td>1.281298</td>\n",
       "      <td>-0.257556</td>\n",
       "      <td>0.656129</td>\n",
       "      <td>0.417972</td>\n",
       "      <td>1.207592</td>\n",
       "      <td>0.352795</td>\n",
       "      <td>0.216077</td>\n",
       "      <td>0.772459</td>\n",
       "      <td>...</td>\n",
       "      <td>-0.993261</td>\n",
       "      <td>0.536688</td>\n",
       "      <td>-0.182870</td>\n",
       "      <td>0.139607</td>\n",
       "      <td>-0.010956</td>\n",
       "      <td>1.124769</td>\n",
       "      <td>0.851655</td>\n",
       "      <td>0.849262</td>\n",
       "      <td>2.127522</td>\n",
       "      <td>1.527014</td>\n",
       "    </tr>\n",
       "    <tr>\n",
       "      <th>4</th>\n",
       "      <td>0.488217</td>\n",
       "      <td>0.423344</td>\n",
       "      <td>0.253906</td>\n",
       "      <td>1.059693</td>\n",
       "      <td>0.435244</td>\n",
       "      <td>-0.018902</td>\n",
       "      <td>0.800365</td>\n",
       "      <td>-0.084947</td>\n",
       "      <td>0.407854</td>\n",
       "      <td>0.549282</td>\n",
       "      <td>...</td>\n",
       "      <td>0.300443</td>\n",
       "      <td>-0.418366</td>\n",
       "      <td>-0.530074</td>\n",
       "      <td>-0.666786</td>\n",
       "      <td>-0.004174</td>\n",
       "      <td>-0.377507</td>\n",
       "      <td>1.426003</td>\n",
       "      <td>1.426971</td>\n",
       "      <td>2.924606</td>\n",
       "      <td>2.713902</td>\n",
       "    </tr>\n",
       "  </tbody>\n",
       "</table>\n",
       "<p>5 rows × 757 columns</p>\n",
       "</div>"
      ],
      "text/plain": [
       "   chroma_cens_kurtosis_01  chroma_cens_kurtosis_02  chroma_cens_kurtosis_03  \\\n",
       "0                 4.419124                 3.603920                 0.045437   \n",
       "1                 1.097430                 0.483653                 0.106345   \n",
       "2                 0.242853                -0.101476                -0.290230   \n",
       "3                 2.235662                -0.250543                 1.281298   \n",
       "4                 0.488217                 0.423344                 0.253906   \n",
       "\n",
       "   chroma_cens_kurtosis_04  chroma_cens_kurtosis_05  chroma_cens_kurtosis_06  \\\n",
       "0                 1.117494                 0.714768                 0.196248   \n",
       "1                 1.941079                 0.802157                -0.023927   \n",
       "2                 0.542347                 0.946592                 0.362155   \n",
       "3                -0.257556                 0.656129                 0.417972   \n",
       "4                 1.059693                 0.435244                -0.018902   \n",
       "\n",
       "   chroma_cens_kurtosis_07  chroma_cens_kurtosis_08  chroma_cens_kurtosis_09  \\\n",
       "0                 1.001587                 0.620118                 0.380048   \n",
       "1                 0.919823                 0.217405                 0.020102   \n",
       "2                -0.711991                -0.269906                 0.285052   \n",
       "3                 1.207592                 0.352795                 0.216077   \n",
       "4                 0.800365                -0.084947                 0.407854   \n",
       "\n",
       "   chroma_cens_kurtosis_10  ...  echonest_temporal_features_214  \\\n",
       "0                 0.509364  ...                       -0.015394   \n",
       "1                 0.213077  ...                        0.224566   \n",
       "2                 0.385159  ...                       -0.188678   \n",
       "3                 0.772459  ...                       -0.993261   \n",
       "4                 0.549282  ...                        0.300443   \n",
       "\n",
       "   echonest_temporal_features_215  echonest_temporal_features_216  \\\n",
       "0                       -0.196491                       -0.541608   \n",
       "1                       -0.092586                       -0.360435   \n",
       "2                        0.038954                       -0.372152   \n",
       "3                        0.536688                       -0.182870   \n",
       "4                       -0.418366                       -0.530074   \n",
       "\n",
       "   echonest_temporal_features_217  echonest_temporal_features_218  \\\n",
       "0                       -0.746446                       -0.039155   \n",
       "1                       -0.411743                       -0.023681   \n",
       "2                       -0.209727                       -0.029779   \n",
       "3                        0.139607                       -0.010956   \n",
       "4                       -0.666786                       -0.004174   \n",
       "\n",
       "   echonest_temporal_features_219  echonest_temporal_features_220  \\\n",
       "0                       -0.406784                       -0.101957   \n",
       "1                       -0.402210                        0.382355   \n",
       "2                       -0.767258                        0.350895   \n",
       "3                        1.124769                        0.851655   \n",
       "4                       -0.377507                        1.426003   \n",
       "\n",
       "   echonest_temporal_features_221  echonest_temporal_features_222  \\\n",
       "0                       -0.101071                        0.886169   \n",
       "1                        0.383277                        1.407026   \n",
       "2                        0.352617                        1.304665   \n",
       "3                        0.849262                        2.127522   \n",
       "4                        1.426971                        2.924606   \n",
       "\n",
       "   echonest_temporal_features_223  \n",
       "0                        0.549670  \n",
       "1                        0.827399  \n",
       "2                        0.965594  \n",
       "3                        1.527014  \n",
       "4                        2.713902  \n",
       "\n",
       "[5 rows x 757 columns]"
      ]
     },
     "execution_count": 11,
     "metadata": {},
     "output_type": "execute_result"
    }
   ],
   "source": [
    "df_std.head()"
   ]
  },
  {
   "cell_type": "code",
   "execution_count": 12,
   "id": "719ac053",
   "metadata": {},
   "outputs": [
    {
     "name": "stdout",
     "output_type": "stream",
     "text": [
      "Index([], dtype='object')\n"
     ]
    }
   ],
   "source": [
    "print(df_std.select_dtypes(exclude=['float64', 'int64']).columns)"
   ]
  },
  {
   "cell_type": "markdown",
   "id": "22a7d384",
   "metadata": {},
   "source": [
    "### Drop Columns with missing Values"
   ]
  },
  {
   "cell_type": "code",
   "execution_count": 13,
   "id": "9ce74d32",
   "metadata": {},
   "outputs": [
    {
     "data": {
      "text/plain": [
       "(13129, 757)"
      ]
     },
     "execution_count": 13,
     "metadata": {},
     "output_type": "execute_result"
    }
   ],
   "source": [
    "df_std.shape"
   ]
  },
  {
   "cell_type": "code",
   "execution_count": 14,
   "id": "78d1e454",
   "metadata": {},
   "outputs": [],
   "source": [
    "columns_to_drop = ['chroma_stft_max_10',\n",
    "                   'echonest_ranks_song_currency_rank',\n",
    "                   'echonest_ranks_song_hotttnesss_rank'\n",
    "                  ]"
   ]
  },
  {
   "cell_type": "code",
   "execution_count": 15,
   "id": "d03161c2",
   "metadata": {},
   "outputs": [],
   "source": [
    "df_std.drop(columns=columns_to_drop, inplace=True)"
   ]
  },
  {
   "cell_type": "markdown",
   "id": "561509c5",
   "metadata": {},
   "source": [
    "# OPTIONAL: Select most important features"
   ]
  },
  {
   "cell_type": "code",
   "execution_count": 16,
   "id": "0afb6443",
   "metadata": {},
   "outputs": [],
   "source": [
    "# For example: adjust this code to drop all the features with _02, _03, ... _09, _10\n",
    "# Then we have only 60 cols and maybe can PCA down to 2 for isualization?\n",
    "# Print the names of columns containing \"-01\"\n",
    "# columns_with_01 = [col_name for col_name in df.columns if \"_01\" in col_name]\n",
    "# print(columns_with_01)"
   ]
  },
  {
   "cell_type": "markdown",
   "id": "7565efa0",
   "metadata": {},
   "source": [
    "## PCA on Echonest (60% Variance)"
   ]
  },
  {
   "cell_type": "code",
   "execution_count": 17,
   "id": "0bc43fbf",
   "metadata": {},
   "outputs": [],
   "source": [
    "X = df_std.copy()"
   ]
  },
  {
   "cell_type": "code",
   "execution_count": 18,
   "id": "a11be1eb",
   "metadata": {},
   "outputs": [
    {
     "name": "stdout",
     "output_type": "stream",
     "text": [
      "Optimal number of components for 60.0% variance: 35\n"
     ]
    }
   ],
   "source": [
    "# Step 2: Apply PCA\n",
    "pca = PCA()\n",
    "X_pca = pca.fit_transform(X)\n",
    "\n",
    "# Step 3: Determine the number of components to keep for X% variance\n",
    "keep_var = 0.6\n",
    "cumulative_variance_ratio = np.cumsum(pca.explained_variance_ratio_)\n",
    "num_components = np.argmax(cumulative_variance_ratio >= keep_var) + 1\n",
    "\n",
    "# Step 4: Retain only the selected components\n",
    "X_reduced = X_pca[:, :num_components]\n",
    "print(f\"Optimal number of components for {keep_var * 100}% variance: {num_components}\")"
   ]
  },
  {
   "cell_type": "code",
   "execution_count": 19,
   "id": "bde50903",
   "metadata": {
    "scrolled": true
   },
   "outputs": [
    {
     "data": {
      "image/png": "[encoded data removed]",
      "text/plain": [
       "<Figure size 640x480 with 1 Axes>"
      ]
     },
     "metadata": {},
     "output_type": "display_data"
    }
   ],
   "source": [
    "# Plot the cumulative variance explained\n",
    "plt.plot(cumulative_variance_ratio, marker='o', linestyle='-', color='b')\n",
    "\n",
    "# Highlight the point where variance is X%\n",
    "plt.axhline(y=keep_var, color='r', linestyle='--', label='60% Variance')\n",
    "\n",
    "# Mark the number of components for X% variance\n",
    "plt.scatter(num_components - 1, keep_var, color='r')\n",
    "plt.text(num_components - 1, keep_var, f' {num_components} components', verticalalignment='bottom')\n",
    "\n",
    "# Add labels and title\n",
    "plt.xlabel('Number of Principal Components')\n",
    "plt.ylabel('Cumulative Variance Explained')\n",
    "plt.title('Cumulative Variance Explained by Principal Components')\n",
    "\n",
    "# Show the legend\n",
    "plt.legend()\n",
    "\n",
    "# Show the plot\n",
    "plt.show()"
   ]
  },
  {
   "cell_type": "markdown",
   "id": "f49adf8c-add6-4147-8fa4-eb3e837a782c",
   "metadata": {},
   "source": [
    "## KMEANS on PCA"
   ]
  },
  {
   "cell_type": "code",
   "execution_count": 20,
   "id": "964e0278-d170-4137-9cd9-a7f1b1a5f0e9",
   "metadata": {},
   "outputs": [
    {
     "name": "stdout",
     "output_type": "stream",
     "text": [
      "35\n"
     ]
    }
   ],
   "source": [
    "print(num_components)"
   ]
  },
  {
   "cell_type": "code",
   "execution_count": 21,
   "id": "10ca6968-72b6-49df-8a19-8ee5be587d76",
   "metadata": {},
   "outputs": [
    {
     "data": {
      "text/plain": [
       "819"
      ]
     },
     "execution_count": 21,
     "metadata": {},
     "output_type": "execute_result"
    }
   ],
   "source": [
    "echo_df.shape[1]"
   ]
  },
  {
   "cell_type": "markdown",
   "id": "41327e1b-35eb-4abc-a447-d1293911a44e",
   "metadata": {},
   "source": [
    "3 seems to be the optimal number of clusters"
   ]
  },
  {
   "cell_type": "code",
   "execution_count": 22,
   "id": "9afc46ed-16f1-43ad-a6e6-edba7fa43bec",
   "metadata": {},
   "outputs": [
    {
     "name": "stdout",
     "output_type": "stream",
     "text": [
      "   cluster        PC1        PC2        PC3        PC4        PC5        PC6  \\\n",
      "0      KM0   5.626842   1.039006   3.485605  -3.940074   2.259453   0.234550   \n",
      "1      KM1 -16.331586   2.218229  -2.314307  -0.986872   1.957796  -0.209282   \n",
      "2      KM2   3.947707  -4.871003  -2.731177  -0.684866   7.437342   3.099297   \n",
      "3      KM3  12.250177  -2.250491  -1.213078  -1.402477   2.063419   1.385056   \n",
      "4      KM4   3.093544   3.528738   3.335298  -4.154388  -3.973779   2.019701   \n",
      "5      KM5   9.732836  -3.091542  -0.872089   6.719808  -1.451037   0.750678   \n",
      "6      KM6  -8.726081 -10.489698  -3.543589   0.099783   1.098994   0.674771   \n",
      "7      KM7 -32.485298  61.264435  -7.339849  84.406173  72.873098  61.945170   \n",
      "8      KM8  -7.648087   5.114025   2.242754   2.396304   0.791990   1.137025   \n",
      "9      KM9 -26.762794  -1.914517 -10.639284   1.978980   6.581155   4.168824   \n",
      "10    KM10  12.938641   7.510603   0.006590  -3.092926   3.128120  -0.529298   \n",
      "11    KM11  -4.803078   4.150070   2.463927  -1.594751  -2.053530   4.298613   \n",
      "12    KM12  -9.788320  -2.334441   6.301038   0.450075  -1.868349  -1.998762   \n",
      "13    KM13   0.780496   3.617683   3.786638  -0.810140   1.889535  -7.740447   \n",
      "14    KM14   0.596612  -9.478539   2.173118  -2.523530  -4.833412   2.975199   \n",
      "15    KM15  -8.833372   6.934897   4.046179   3.775705   3.563945   6.449432   \n",
      "16    KM16   2.325519  -5.917525  -4.473983  -0.686308   0.056060   0.562188   \n",
      "17    KM17  17.973587   9.693314  -6.848279   6.050584  -2.813615   1.300840   \n",
      "18    KM18  17.522955  16.349924  51.716945  94.718942  39.682619 -21.174292   \n",
      "19    KM19  -6.419674   6.664715  -0.407362   0.208966  -2.159722  -0.570463   \n",
      "20    KM20   2.024824   2.906552   2.553698   1.647617   3.815739   2.282350   \n",
      "21    KM21  -2.465243  17.650379   7.607832  14.784990   1.607740   4.445409   \n",
      "22    KM22   0.916629   1.401521   2.099767   1.559209  -2.267723   2.205921   \n",
      "23    KM23   0.005190  -8.500734   4.323812   3.805732   1.907660  -0.935612   \n",
      "24    KM24   1.625391 -15.342762  -3.032014   3.273577  -1.007589  -0.807685   \n",
      "25    KM25   3.820306   1.604323  -2.712128  -0.511537  -0.672222  -2.357134   \n",
      "26    KM26 -10.637563  13.804689  -9.580432   0.568343  -1.208964  -2.119146   \n",
      "27    KM27  -9.730313   4.436445   2.339116  -4.366399  -2.266174   0.080601   \n",
      "28    KM28  26.294461  11.268053   9.586440   6.858587  -2.995949   7.152859   \n",
      "29    KM29 -18.148981  11.615182   1.046464   4.471279  -2.111912   0.370231   \n",
      "30    KM30   3.906136  -3.894864   2.940138   1.504576  -4.057644  -2.097623   \n",
      "31    KM31  -1.535051   2.054597  22.145112  14.584750 -13.401695  -7.438653   \n",
      "32    KM32  -3.750108  -1.731366   1.595747  -3.443235   1.627794   0.111543   \n",
      "33    KM33  10.929198   6.671649  -2.367293  -0.046856  -0.756848  -0.956759   \n",
      "34    KM34  -5.428999  -6.115423  -4.135300   2.482923  -3.824238  -1.919490   \n",
      "\n",
      "         PC7        PC8         PC9  ...       PC27       PC28       PC29  \\\n",
      "0   1.338805   0.528825   -1.485229  ...   0.080407  -0.407470   0.153170   \n",
      "1   0.591511   0.931617   -0.042919  ...  -0.594330   0.120746  -0.544564   \n",
      "2   2.905046   1.244038    0.044768  ...   0.446052   2.238534  -0.178921   \n",
      "3   0.452518  -0.033069   -0.005995  ...   0.269134  -0.043746   0.017669   \n",
      "4  -2.015747  -3.415721    2.999222  ...  -0.591462   0.132406   0.376508   \n",
      "5   0.487913  -0.942701   -0.458258  ...  -0.438474   0.429199   0.595502   \n",
      "6   0.321420   0.569583    1.377785  ...  -0.110544  -0.537428  -0.695839   \n",
      "7  -9.899261   7.629573   89.943825  ...  24.619645   8.359806 -22.288684   \n",
      "8   5.641446   4.005530   -1.378025  ...  -0.344056   0.459031   0.239444   \n",
      "9   1.292131   1.802802    6.335104  ...  -0.280267   0.818722  -1.330200   \n",
      "10  0.158198   0.514793   -0.450514  ...   0.576453  -1.078544  -1.248183   \n",
      "11 -1.752842   6.292066   -2.507152  ...  -0.449968   0.218287   0.300021   \n",
      "12  0.119581  -0.590071   -0.870177  ...  -0.207474  -0.246282  -1.022666   \n",
      "13  1.251681  -0.189858    3.143301  ...  -0.544993   0.073868   0.465169   \n",
      "14  0.221215  -0.388927    2.345623  ...   0.464422   0.189174  -0.734867   \n",
      "15 -9.168870  -3.990597    0.599491  ...  -0.576529   0.311428   0.394311   \n",
      "16 -0.154347   0.501843    0.594517  ...   0.900927  -0.164900   0.743704   \n",
      "17  0.193821   0.224140    2.793882  ...  -1.247203   0.129398  -3.441988   \n",
      "18 -6.210370  58.983762  154.883835  ...  23.720185   7.808309 -42.116138   \n",
      "19 -0.499130   0.299983   -0.986572  ...   0.255379   0.303247  -0.003229   \n",
      "20 -5.189762  -3.264478   -2.157897  ...  -0.302169   0.052021   0.383710   \n",
      "21  3.201519   3.086484   12.837699  ...   2.486776  -1.416328   3.405018   \n",
      "22  8.014687  -3.526664    0.221346  ...  -0.378973  -0.016595   0.547744   \n",
      "23  0.551281  -1.352069   -1.761149  ...  -0.192015   0.221357  -0.096631   \n",
      "24 -0.825518  -0.329122    0.634417  ...  -0.152509  -0.190317  -0.164911   \n",
      "25 -0.722427  -0.602864   -1.362267  ...  -0.187080  -0.100559   0.326883   \n",
      "26  0.599929  -1.493686   -3.521602  ...  -0.731473   0.604715   1.172510   \n",
      "27 -1.359928  -3.227867    6.841715  ...  -0.375333   0.904019   0.588027   \n",
      "28  4.114777   5.307892    5.184571  ...   0.669800  -0.409013   2.224766   \n",
      "29  0.461245   0.516934   -1.477514  ...   1.825466  -2.522010  -1.636604   \n",
      "30 -2.587005   5.875706   -0.017572  ...   0.064116   0.371979   0.129486   \n",
      "31 -1.359118   0.891768    4.764301  ...  29.023299  26.383843  81.528333   \n",
      "32 -0.126117  -0.051288   -0.808050  ...   0.166406   0.176700  -0.031393   \n",
      "33 -0.342120   0.439154   -0.120454  ...   0.015071  -0.241421  -0.509542   \n",
      "34 -0.286113  -1.136069   -1.069678  ...   0.664715  -0.261340   0.977386   \n",
      "\n",
      "         PC30       PC31       PC32       PC33       PC34       PC35  method  \n",
      "0    0.298015  -0.306943  -0.057850  -0.020680   0.119792  -0.136354  KMeans  \n",
      "1   -0.517655   0.492899  -0.155859   0.085743   0.300476   0.669238  KMeans  \n",
      "2    0.153845   0.579151  -0.342547   0.204019  -0.395263  -0.896084  KMeans  \n",
      "3   -0.240626  -0.674516   0.219878  -1.141459   0.591450   0.049856  KMeans  \n",
      "4   -0.098710  -0.087908  -0.779554   0.389906  -0.023563  -0.406583  KMeans  \n",
      "5   -0.016957   1.314764  -0.433101  -0.341628   0.531255   0.058557  KMeans  \n",
      "6    0.032764  -0.483405  -0.220633   0.881576  -0.104490   0.269136  KMeans  \n",
      "7   11.215284  -4.787410   1.536149   9.882305  25.150995  -7.439297  KMeans  \n",
      "8   -0.262533   0.000711  -0.211562  -0.341112  -0.308893  -0.039676  KMeans  \n",
      "9   -0.159415   0.368087  -1.519941  -1.879042   0.116775   1.145676  KMeans  \n",
      "10  -0.053332  -0.773553  -1.160554   0.709828  -0.236271   1.535277  KMeans  \n",
      "11   0.097740   0.263309  -0.008249  -0.023339  -0.570372  -0.389399  KMeans  \n",
      "12  -0.552748  -0.191471   0.002215  -0.103345   0.282524  -0.024102  KMeans  \n",
      "13   0.074267   0.063501   0.432237  -0.420140  -0.653083  -0.105029  KMeans  \n",
      "14   0.364971   0.407784   0.494330  -0.005242   0.048241   0.361005  KMeans  \n",
      "15   0.118684   0.333571   0.841906  -0.983138  -0.747162   0.437270  KMeans  \n",
      "16  -0.170816  -0.124018   0.548560   0.132341   0.073470  -0.406380  KMeans  \n",
      "17  -1.024321   1.200256   0.099280  -0.106104   0.205673  -0.158390  KMeans  \n",
      "18   0.510182  -6.431089 -19.654675  28.452239   8.305316 -15.411024  KMeans  \n",
      "19  -0.131920  -0.234022  -0.289924   0.050343  -0.371671  -0.489340  KMeans  \n",
      "20   0.371566  -0.022478   0.550812  -0.068485  -0.619142  -0.189887  KMeans  \n",
      "21  -0.990015  -3.124622   3.099780   2.784601   2.399140   1.158113  KMeans  \n",
      "22  -0.147526  -0.136941   0.052289  -0.454771  -0.685722   0.262796  KMeans  \n",
      "23  -0.017512   0.261289  -0.550449   0.172331   0.227007   0.155328  KMeans  \n",
      "24   0.947902  -0.107962  -0.325713   0.197142   0.052695   0.393479  KMeans  \n",
      "25  -0.141094  -0.419382   0.009238   0.320358   0.019575  -0.005828  KMeans  \n",
      "26   0.729478   1.126612   0.505193  -0.422988   0.817921   0.248222  KMeans  \n",
      "27  -0.055849   0.401087  -0.671644  -0.401381   0.201952  -0.101962  KMeans  \n",
      "28  -3.882826   2.682830  -0.013204  -0.623054  -1.665100   0.197777  KMeans  \n",
      "29   1.065980  -0.016998   0.009443  -0.905483   0.900086  -0.043758  KMeans  \n",
      "30   0.007263   0.715596   0.592444  -0.068134  -0.357890  -0.165072  KMeans  \n",
      "31  79.857771  28.677175   3.715842  24.797381  -0.346477 -10.646337  KMeans  \n",
      "32  -0.224897   0.020678   0.263277   0.189891   0.142276  -0.469681  KMeans  \n",
      "33   0.428837  -0.073623  -0.209906   0.232382   0.044876   0.141561  KMeans  \n",
      "34  -0.761255  -1.186695   0.128193  -0.159354  -0.650693  -0.178021  KMeans  \n",
      "\n",
      "[35 rows x 37 columns]\n"
     ]
    }
   ],
   "source": [
    "# Initialize the KMeans clustering algorithm. The number of clusters is set to the number of \n",
    "# principal components identified by PCA to maintain consistency with dimensionality reduction.\n",
    "km = KMeans(n_clusters=num_components, n_init=10, random_state=42)  \n",
    "\n",
    "# Fit the KMeans model to the PCA-reduced dataset.\n",
    "km.fit(X_reduced)  \n",
    "\n",
    "# Retrieve the cluster labels assigned to each data point in the dataset\n",
    "labels = km.labels_\n",
    "\n",
    "# Obtain the cluster centers from the KMeans model\n",
    "cluster_centers = km.cluster_centers_\n",
    "\n",
    "# Identify the unique cluster labels to know how many distinct clusters there are\n",
    "labels_unique = np.unique(labels)\n",
    "\n",
    "# Count the number of unique clusters generated by the KMeans algorithm.\n",
    "n_clusters_ = len(labels_unique)\n",
    "\n",
    "# Initialize an empty DataFrame for clusters \n",
    "if 'clusters' not in locals():\n",
    "    clusters = pd.DataFrame()\n",
    "\n",
    "# Create km_clusters DataFrame with correct column names after PCA reduction\n",
    "component_names = [f\"PC{i+1}\" for i in range(num_components)]\n",
    "km_clusters = pd.DataFrame(cluster_centers, columns=component_names)\n",
    "km_clusters['cluster'] = ['KM{}'.format(l) for l in labels_unique]\n",
    "km_clusters['method'] = 'KMeans'\n",
    "\n",
    "# Concatenate with the clusters DataFrame\n",
    "clusters = pd.concat([clusters, km_clusters])\n",
    "\n",
    "cols = ['cluster'] + component_names + ['method']\n",
    "clusters = clusters[cols]\n",
    "\n",
    "print(clusters)"
   ]
  },
  {
   "cell_type": "markdown",
   "id": "5ee28fc4-f3d7-4ed5-878a-36c3fd0e1439",
   "metadata": {},
   "source": [
    "## Hierarchical Clustering on KMEANS (PCA)"
   ]
  },
  {
   "cell_type": "code",
   "execution_count": 23,
   "id": "88e4e393-99d5-4ec4-884f-9a7cf16bddb9",
   "metadata": {},
   "outputs": [],
   "source": [
    "threshold = 40"
   ]
  },
  {
   "cell_type": "code",
   "execution_count": 24,
   "id": "be3fb365-760b-4355-921d-c9e76875aaa8",
   "metadata": {},
   "outputs": [
    {
     "data": {
      "image/png": "[encoded data removed]",
      "text/plain": [
       "<Figure size 1000x700 with 1 Axes>"
      ]
     },
     "metadata": {},
     "output_type": "display_data"
    }
   ],
   "source": [
    "# Show the shape of the sampled DataFrame\n",
    "df_numpy = clusters.iloc[:,1:-1].to_numpy()\n",
    "\n",
    "# Perform Hierarchical Agglomerative Clustering\n",
    "# We use the 'ward' method for linkage to minimize the variance of clusters being merged.\n",
    "Z = linkage(df_numpy, 'ward')\n",
    "\n",
    "# Plot the dendrogram\n",
    "plt.figure(figsize=(10, 7))  # Set the figure size\n",
    "dendrogram(Z)\n",
    "plt.title('Hierarchical Clustering Dendrogram')\n",
    "plt.xlabel('KMM Cluster ID')\n",
    "plt.ylabel('Distance')\n",
    "plt.axhline(y=threshold, c='k')\n",
    "plt.show()"
   ]
  },
  {
   "cell_type": "code",
   "execution_count": 25,
   "id": "45c2f5e1-b1c1-49e8-8789-a7a80b2ccac1",
   "metadata": {},
   "outputs": [
    {
     "name": "stdout",
     "output_type": "stream",
     "text": [
      "Cluster labels: [4 1 3 4 4 4 3 7 1 1 4 1 1 4 3 1 3 4 8 1 4 2 4 3 3 4 1 1 5 1 3 6 1 4 3]\n",
      "Number of clusters: 8\n"
     ]
    }
   ],
   "source": [
    "# Group clusters based on the threshold\n",
    "clusters = fcluster(Z, threshold, criterion='distance')\n",
    "\n",
    "# Print the cluster labels\n",
    "print(\"Cluster labels:\", clusters)\n",
    "print(\"Number of clusters:\", max(clusters))"
   ]
  },
  {
   "cell_type": "code",
   "execution_count": 26,
   "id": "9012c8cd-ab20-4355-a62c-6ef33bb26d1c",
   "metadata": {},
   "outputs": [
    {
     "name": "stdout",
     "output_type": "stream",
     "text": [
      "Occurrences of each element:\n",
      "{1: 11, 2: 1, 3: 8, 4: 11, 5: 1, 6: 1, 7: 1, 8: 1}\n"
     ]
    }
   ],
   "source": [
    "# Get unique elements and their counts\n",
    "unique_elements, counts = np.unique(clusters, return_counts=True)\n",
    "\n",
    "# Combine unique elements and their counts into a dictionary\n",
    "occurrences = dict(zip(unique_elements, counts))\n",
    "\n",
    "print(\"Occurrences of each element:\")\n",
    "print(occurrences)"
   ]
  },
  {
   "cell_type": "markdown",
   "id": "e1568276",
   "metadata": {},
   "source": [
    "### Try: PCA 2 cmponents only Plot KNN clusters"
   ]
  },
  {
   "cell_type": "markdown",
   "id": "91845b9f",
   "metadata": {},
   "source": [
    "### Try: PCA 100 components then KNN clusters for further agglomeritive clustering"
   ]
  },
  {
   "cell_type": "markdown",
   "id": "3f776409",
   "metadata": {},
   "source": [
    "## UMAP --> Does not work"
   ]
  },
  {
   "cell_type": "code",
   "execution_count": 27,
   "id": "ceeecad3",
   "metadata": {},
   "outputs": [],
   "source": [
    "# pip install numpy==1.26.4"
   ]
  },
  {
   "cell_type": "markdown",
   "id": "4a8cdf41",
   "metadata": {},
   "source": [
    "## Kernel PCA (10 Components, adjust if needed)"
   ]
  },
  {
   "cell_type": "code",
   "execution_count": 28,
   "id": "7f839894",
   "metadata": {},
   "outputs": [],
   "source": [
    "from sklearn.decomposition import KernelPCA\n",
    "\n",
    "# Create a KernelPCA instance\n",
    "kpca = KernelPCA(kernel='rbf', n_components=10)  # You can choose different kernels like 'linear', 'poly', 'rbf', 'sigmoid', etc.\n",
    "\n",
    "# Fit and transform the data\n",
    "X_kpca = kpca.fit_transform(X)\n"
   ]
  },
  {
   "cell_type": "markdown",
   "id": "70d1e4cd-83df-43ac-9c19-7c146627275c",
   "metadata": {},
   "source": [
    "## KMeans on KPCA"
   ]
  },
  {
   "cell_type": "code",
   "execution_count": 29,
   "id": "8735463d-d585-4ef3-aa72-7291ce70e1d7",
   "metadata": {},
   "outputs": [
    {
     "data": {
      "text/plain": [
       "array([[-0.11740344,  0.01164596,  0.09066248, ...,  0.19178711,\n",
       "        -0.15928531, -0.03160756],\n",
       "       [-0.20429921,  0.01248003,  0.1486599 , ...,  0.08401604,\n",
       "         0.12791791, -0.05505927],\n",
       "       [-0.19848355, -0.06041745,  0.0876729 , ..., -0.00618962,\n",
       "        -0.0256968 ,  0.01558781],\n",
       "       ...,\n",
       "       [-0.11484903,  0.29366834,  0.20751515, ...,  0.05009747,\n",
       "        -0.14920045,  0.05526649],\n",
       "       [-0.16930989, -0.21735441, -0.12593634, ...,  0.20687673,\n",
       "         0.14129129,  0.0407062 ],\n",
       "       [ 0.36338994,  0.04608928,  0.00074216, ...,  0.00916352,\n",
       "         0.00166038,  0.05083176]])"
      ]
     },
     "execution_count": 29,
     "metadata": {},
     "output_type": "execute_result"
    }
   ],
   "source": [
    "X_kpca"
   ]
  },
  {
   "cell_type": "code",
   "execution_count": 30,
   "id": "2819c383-4ccb-4031-b9d1-c5b22e7ec06a",
   "metadata": {},
   "outputs": [
    {
     "name": "stdout",
     "output_type": "stream",
     "text": [
      "   cluster      KPC1      KPC2      KPC3      KPC4      KPC5      KPC6  \\\n",
      "0      KM0 -0.161490  0.005442 -0.116048  0.003728  0.011011  0.046432   \n",
      "1      KM1 -0.063209  0.017259  0.092231 -0.083536 -0.120411 -0.097995   \n",
      "2      KM2  0.113473  0.233372  0.067204 -0.028829  0.008781 -0.000507   \n",
      "3      KM3  0.026499 -0.055407  0.125681 -0.096784 -0.033832 -0.010533   \n",
      "4      KM4  0.106935  0.049779 -0.122506  0.025545 -0.057672  0.039079   \n",
      "5      KM5 -0.209918  0.199267 -0.115560  0.108471 -0.022280  0.010620   \n",
      "6      KM6 -0.180869 -0.054658 -0.031982 -0.009564  0.145215 -0.073038   \n",
      "7      KM7 -0.093722 -0.144642  0.291076 -0.007829 -0.055574 -0.018014   \n",
      "8      KM8  0.102595 -0.110301 -0.156669 -0.034645  0.035222 -0.056253   \n",
      "9      KM9 -0.095571 -0.158827 -0.156159 -0.174755  0.047832  0.025413   \n",
      "10    KM10 -0.170763 -0.155043  0.181829  0.085399  0.096264  0.034332   \n",
      "11    KM11 -0.160658 -0.104222 -0.200332  0.022076 -0.018960  0.045436   \n",
      "12    KM12  0.276622  0.039238 -0.113894  0.157417  0.006330 -0.018320   \n",
      "13    KM13  0.305236  0.165307  0.115061 -0.042942  0.010789  0.001397   \n",
      "14    KM14 -0.192388  0.097025  0.161195  0.076318 -0.000304 -0.004721   \n",
      "15    KM15 -0.055237 -0.059177  0.143637 -0.078284  0.033446  0.180493   \n",
      "16    KM16 -0.137855  0.065312 -0.143068 -0.026874  0.031928 -0.081542   \n",
      "17    KM17 -0.017187 -0.011284  0.072241 -0.093009 -0.113863 -0.075944   \n",
      "18    KM18  0.147217 -0.050147 -0.132257 -0.013486  0.006874  0.048536   \n",
      "19    KM19  0.101823 -0.022269  0.249534  0.023618  0.014993 -0.008195   \n",
      "20    KM20 -0.017507  0.044985 -0.090830 -0.071370  0.044311  0.155043   \n",
      "21    KM21 -0.052949  0.243097 -0.029438 -0.045525  0.038262 -0.028184   \n",
      "22    KM22  0.020202 -0.220717 -0.160569  0.069593 -0.002137 -0.038071   \n",
      "23    KM23 -0.158872  0.101930 -0.139915 -0.057254 -0.070468 -0.033247   \n",
      "24    KM24 -0.189181  0.151014 -0.001455 -0.119146  0.078765 -0.029251   \n",
      "25    KM25 -0.022951 -0.139915 -0.166424 -0.073746 -0.005935 -0.004122   \n",
      "26    KM26 -0.158361 -0.057478  0.006906  0.181283 -0.054614 -0.005388   \n",
      "27    KM27 -0.178873  0.000696 -0.008915  0.045505 -0.087112  0.059543   \n",
      "28    KM28  0.308746  0.029498 -0.003711 -0.001958  0.018262 -0.003808   \n",
      "29    KM29  0.122885 -0.202099 -0.059562 -0.115803 -0.098224  0.062566   \n",
      "30    KM30 -0.060230  0.310437  0.002101  0.072409 -0.017369  0.016275   \n",
      "31    KM31 -0.001334 -0.254859  0.115412  0.147352 -0.079621  0.057367   \n",
      "32    KM32 -0.116097 -0.242243  0.039861 -0.088721 -0.021068 -0.050294   \n",
      "33    KM33  0.101588 -0.229628  0.092749  0.048438  0.095991 -0.035507   \n",
      "34    KM34  0.272049 -0.192651 -0.149723  0.058922  0.004316 -0.027722   \n",
      "\n",
      "        KPC7      KPC8      KPC9     KPC10  method  \n",
      "0  -0.119430  0.095933  0.096685 -0.073122  KMeans  \n",
      "1  -0.098346 -0.044486 -0.054298  0.010283  KMeans  \n",
      "2  -0.009932  0.005622 -0.004861  0.004892  KMeans  \n",
      "3  -0.006749  0.113685 -0.130966  0.000648  KMeans  \n",
      "4   0.067236  0.037658 -0.042475 -0.026305  KMeans  \n",
      "5   0.012554 -0.010355  0.013619 -0.019201  KMeans  \n",
      "6   0.022697  0.036714 -0.017389  0.028125  KMeans  \n",
      "7   0.002554 -0.018721 -0.008886 -0.040664  KMeans  \n",
      "8  -0.147495 -0.138464 -0.024058 -0.021568  KMeans  \n",
      "9  -0.039308  0.064257  0.024291 -0.008599  KMeans  \n",
      "10  0.016309 -0.002283  0.020291  0.027560  KMeans  \n",
      "11  0.024175 -0.091146 -0.035630 -0.000065  KMeans  \n",
      "12  0.015648  0.009066 -0.016649  0.066785  KMeans  \n",
      "13  0.004678 -0.006336  0.006965 -0.015258  KMeans  \n",
      "14 -0.029863  0.012440  0.001579  0.052696  KMeans  \n",
      "15 -0.037262 -0.014203  0.047871  0.015264  KMeans  \n",
      "16 -0.128712 -0.107549 -0.035566 -0.041424  KMeans  \n",
      "17  0.067055 -0.021180  0.122207  0.042179  KMeans  \n",
      "18 -0.111297  0.112859  0.082412 -0.034249  KMeans  \n",
      "19  0.011717 -0.017504  0.022796 -0.055355  KMeans  \n",
      "20  0.013700 -0.132925 -0.068513  0.005477  KMeans  \n",
      "21  0.043825  0.002902  0.018682 -0.063232  KMeans  \n",
      "22 -0.019884  0.077742  0.005642 -0.019872  KMeans  \n",
      "23  0.145887 -0.025120  0.036789 -0.031073  KMeans  \n",
      "24  0.009021  0.038916 -0.020677  0.046999  KMeans  \n",
      "25  0.195771 -0.004273  0.015462 -0.002134  KMeans  \n",
      "26 -0.017523 -0.024392  0.018132  0.003241  KMeans  \n",
      "27 -0.000927  0.090149 -0.126220 -0.004356  KMeans  \n",
      "28  0.001149 -0.000451  0.000639  0.014650  KMeans  \n",
      "29  0.015765 -0.025428  0.010957  0.029418  KMeans  \n",
      "30 -0.022886  0.003966  0.015778  0.045644  KMeans  \n",
      "31  0.027390 -0.013787  0.011586  0.002283  KMeans  \n",
      "32  0.006010 -0.015920 -0.001293  0.032657  KMeans  \n",
      "33  0.030754 -0.017025  0.001385 -0.020735  KMeans  \n",
      "34  0.016950  0.015304 -0.009634  0.022792  KMeans  \n"
     ]
    }
   ],
   "source": [
    "# Apply KMeans on the KPCA-reduced data\n",
    "km = KMeans(n_clusters=num_components, n_init=10, random_state=42)\n",
    "km.fit(X_kpca)  \n",
    "labels = km.labels_\n",
    "\n",
    "# Extract the cluster centers from the KMeans model\n",
    "cluster_centers = km.cluster_centers_\n",
    "labels_unique = np.unique(labels)\n",
    "n_clusters_ = len(labels_unique)\n",
    "\n",
    "component_names = [f\"KPC{i+1}\" for i in range(cluster_centers.shape[1])]\n",
    "\n",
    "# Create the km_clusters DataFrame with the corrected component names\n",
    "km_clusters = pd.DataFrame(cluster_centers, columns=component_names)\n",
    "\n",
    "# Assign a unique identifier to each cluster in the 'km_clusters' DataFrame for easier reference.\n",
    "km_clusters['cluster'] = ['KM{}'.format(l) for l in labels_unique]\n",
    "km_clusters['method'] = 'KMeans'\n",
    "\n",
    "# Initialize a new DataFrame for clusters\n",
    "clusters = km_clusters.copy()\n",
    "\n",
    "# Ensure the columns list includes the dynamically adjusted component names\n",
    "cols = ['cluster'] + component_names + ['method']\n",
    "clusters = clusters[cols]\n",
    "\n",
    "print(clusters)"
   ]
  },
  {
   "cell_type": "markdown",
   "id": "522ec5d8",
   "metadata": {},
   "source": [
    "## Hierarchical Clustering on KMEANS (KPCA)"
   ]
  },
  {
   "cell_type": "code",
   "execution_count": 31,
   "id": "f5bbefac-d482-4738-8f48-d5220e8b0827",
   "metadata": {},
   "outputs": [],
   "source": [
    "threshold = 0.4"
   ]
  },
  {
   "cell_type": "code",
   "execution_count": 32,
   "id": "02694e74-4ed3-4811-b4ae-f6883545cd96",
   "metadata": {},
   "outputs": [
    {
     "data": {
      "image/png": "[encoded data removed]",
      "text/plain": [
       "<Figure size 1000x700 with 1 Axes>"
      ]
     },
     "metadata": {},
     "output_type": "display_data"
    }
   ],
   "source": [
    "# Show the shape of the sampled DataFrame\n",
    "df_numpy = clusters.iloc[:,1:-1].to_numpy()\n",
    "\n",
    "# Perform Hierarchical Agglomerative Clustering\n",
    "# We use the 'ward' method for linkage to minimize the variance of clusters being merged.\n",
    "Z = linkage(df_numpy, 'ward')\n",
    "\n",
    "# Plot the dendrogram\n",
    "plt.figure(figsize=(10, 7))  # Set the figure size\n",
    "dendrogram(Z)\n",
    "plt.title('Hierarchical Clustering Dendrogram')\n",
    "plt.xlabel('KMM Cluster ID')\n",
    "plt.ylabel('Distance')\n",
    "plt.axhline(y=threshold, c='k')\n",
    "plt.show()"
   ]
  },
  {
   "cell_type": "code",
   "execution_count": 33,
   "id": "0d1ac808-45a2-4c3f-9793-fc99737b6dc3",
   "metadata": {},
   "outputs": [
    {
     "name": "stdout",
     "output_type": "stream",
     "text": [
      "Cluster labels: [3 4 1 4 6 3 3 5 7 8 5 8 6 6 2 5 3 4 7 4 3 1 7 3 3 8 2 2 6 7 1 5 8 5 7]\n",
      "Number of clusters: 8\n"
     ]
    }
   ],
   "source": [
    "# Group clusters based on the threshold\n",
    "clusters = fcluster(Z, threshold, criterion='distance')\n",
    "\n",
    "# Print the cluster labels\n",
    "print(\"Cluster labels:\", clusters)\n",
    "print(\"Number of clusters:\", max(clusters))"
   ]
  },
  {
   "cell_type": "code",
   "execution_count": 34,
   "id": "528d6743-f246-4c55-9ac5-4515c63fceaf",
   "metadata": {},
   "outputs": [
    {
     "name": "stdout",
     "output_type": "stream",
     "text": [
      "Occurrences of each element:\n",
      "{1: 3, 2: 3, 3: 7, 4: 4, 5: 5, 6: 4, 7: 5, 8: 4}\n"
     ]
    }
   ],
   "source": [
    "# Get unique elements and their counts\n",
    "unique_elements, counts = np.unique(clusters, return_counts=True)\n",
    "\n",
    "# Combine unique elements and their counts into a dictionary\n",
    "occurrences = dict(zip(unique_elements, counts))\n",
    "\n",
    "print(\"Occurrences of each element:\")\n",
    "print(occurrences)"
   ]
  },
  {
   "cell_type": "markdown",
   "id": "a38a3a2d-827e-41e7-a987-ff4e86f6e45b",
   "metadata": {},
   "source": [
    "## Try everything from PCA but on Kernel PCA Data for nonlinearities\n",
    "## Adjust number of components and kernel as needed."
   ]
  },
  {
   "cell_type": "code",
   "execution_count": null,
   "id": "23635b09",
   "metadata": {},
   "outputs": [],
   "source": []
  },
  {
   "cell_type": "markdown",
   "id": "df78b163",
   "metadata": {},
   "source": [
    "# Alternative Dim Reduction methods"
   ]
  },
  {
   "cell_type": "markdown",
   "id": "56a52735",
   "metadata": {},
   "source": [
    "## ISO MAP"
   ]
  },
  {
   "cell_type": "markdown",
   "id": "aebeb408",
   "metadata": {},
   "source": [
    "## LLE (Locally Linear Embedding)"
   ]
  },
  {
   "cell_type": "markdown",
   "id": "bdf141ba",
   "metadata": {},
   "source": [
    "## Autoencoders"
   ]
  }
 ],
 "metadata": {
  "kernelspec": {
   "display_name": "Python 3 (ipykernel)",
   "language": "python",
   "name": "python3"
  },
  "language_info": {
   "codemirror_mode": {
    "name": "ipython",
    "version": 3
   },
   "file_extension": ".py",
   "mimetype": "text/x-python",
   "name": "python",
   "nbconvert_exporter": "python",
   "pygments_lexer": "ipython3",
   "version": "3.11.4"
  }
 },
 "nbformat": 4,
 "nbformat_minor": 5
}
